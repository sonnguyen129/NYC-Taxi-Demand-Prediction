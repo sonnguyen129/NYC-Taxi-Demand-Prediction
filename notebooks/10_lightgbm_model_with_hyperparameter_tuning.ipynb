{
 "cells": [
  {
   "cell_type": "code",
   "execution_count": 1,
   "metadata": {},
   "outputs": [],
   "source": [
    "import warnings\n",
    "warnings.filterwarnings(\"ignore\")"
   ]
  },
  {
   "cell_type": "code",
   "execution_count": 2,
   "metadata": {},
   "outputs": [
    {
     "data": {
      "text/html": [
       "<div>\n",
       "<style scoped>\n",
       "    .dataframe tbody tr th:only-of-type {\n",
       "        vertical-align: middle;\n",
       "    }\n",
       "\n",
       "    .dataframe tbody tr th {\n",
       "        vertical-align: top;\n",
       "    }\n",
       "\n",
       "    .dataframe thead th {\n",
       "        text-align: right;\n",
       "    }\n",
       "</style>\n",
       "<table border=\"1\" class=\"dataframe\">\n",
       "  <thead>\n",
       "    <tr style=\"text-align: right;\">\n",
       "      <th></th>\n",
       "      <th>rides_previous_672_hour</th>\n",
       "      <th>rides_previous_671_hour</th>\n",
       "      <th>rides_previous_670_hour</th>\n",
       "      <th>rides_previous_669_hour</th>\n",
       "      <th>rides_previous_668_hour</th>\n",
       "      <th>rides_previous_667_hour</th>\n",
       "      <th>rides_previous_666_hour</th>\n",
       "      <th>rides_previous_665_hour</th>\n",
       "      <th>rides_previous_664_hour</th>\n",
       "      <th>rides_previous_663_hour</th>\n",
       "      <th>...</th>\n",
       "      <th>rides_previous_7_hour</th>\n",
       "      <th>rides_previous_6_hour</th>\n",
       "      <th>rides_previous_5_hour</th>\n",
       "      <th>rides_previous_4_hour</th>\n",
       "      <th>rides_previous_3_hour</th>\n",
       "      <th>rides_previous_2_hour</th>\n",
       "      <th>rides_previous_1_hour</th>\n",
       "      <th>pickup_hour</th>\n",
       "      <th>pickup_location_id</th>\n",
       "      <th>target_rides_next_hour</th>\n",
       "    </tr>\n",
       "  </thead>\n",
       "  <tbody>\n",
       "    <tr>\n",
       "      <th>0</th>\n",
       "      <td>11.0</td>\n",
       "      <td>15.0</td>\n",
       "      <td>26.0</td>\n",
       "      <td>8.0</td>\n",
       "      <td>9.0</td>\n",
       "      <td>7.0</td>\n",
       "      <td>3.0</td>\n",
       "      <td>1.0</td>\n",
       "      <td>0.0</td>\n",
       "      <td>3.0</td>\n",
       "      <td>...</td>\n",
       "      <td>11.0</td>\n",
       "      <td>7.0</td>\n",
       "      <td>4.0</td>\n",
       "      <td>3.0</td>\n",
       "      <td>4.0</td>\n",
       "      <td>9.0</td>\n",
       "      <td>19.0</td>\n",
       "      <td>2022-01-29</td>\n",
       "      <td>4</td>\n",
       "      <td>17.0</td>\n",
       "    </tr>\n",
       "    <tr>\n",
       "      <th>1</th>\n",
       "      <td>1.0</td>\n",
       "      <td>0.0</td>\n",
       "      <td>2.0</td>\n",
       "      <td>0.0</td>\n",
       "      <td>0.0</td>\n",
       "      <td>0.0</td>\n",
       "      <td>0.0</td>\n",
       "      <td>0.0</td>\n",
       "      <td>1.0</td>\n",
       "      <td>1.0</td>\n",
       "      <td>...</td>\n",
       "      <td>5.0</td>\n",
       "      <td>4.0</td>\n",
       "      <td>10.0</td>\n",
       "      <td>7.0</td>\n",
       "      <td>5.0</td>\n",
       "      <td>9.0</td>\n",
       "      <td>10.0</td>\n",
       "      <td>2022-01-30</td>\n",
       "      <td>4</td>\n",
       "      <td>9.0</td>\n",
       "    </tr>\n",
       "    <tr>\n",
       "      <th>2</th>\n",
       "      <td>0.0</td>\n",
       "      <td>1.0</td>\n",
       "      <td>0.0</td>\n",
       "      <td>0.0</td>\n",
       "      <td>1.0</td>\n",
       "      <td>1.0</td>\n",
       "      <td>1.0</td>\n",
       "      <td>3.0</td>\n",
       "      <td>2.0</td>\n",
       "      <td>3.0</td>\n",
       "      <td>...</td>\n",
       "      <td>8.0</td>\n",
       "      <td>7.0</td>\n",
       "      <td>8.0</td>\n",
       "      <td>5.0</td>\n",
       "      <td>5.0</td>\n",
       "      <td>10.0</td>\n",
       "      <td>0.0</td>\n",
       "      <td>2022-01-31</td>\n",
       "      <td>4</td>\n",
       "      <td>3.0</td>\n",
       "    </tr>\n",
       "    <tr>\n",
       "      <th>3</th>\n",
       "      <td>1.0</td>\n",
       "      <td>1.0</td>\n",
       "      <td>0.0</td>\n",
       "      <td>0.0</td>\n",
       "      <td>0.0</td>\n",
       "      <td>3.0</td>\n",
       "      <td>2.0</td>\n",
       "      <td>3.0</td>\n",
       "      <td>4.0</td>\n",
       "      <td>5.0</td>\n",
       "      <td>...</td>\n",
       "      <td>3.0</td>\n",
       "      <td>16.0</td>\n",
       "      <td>7.0</td>\n",
       "      <td>1.0</td>\n",
       "      <td>0.0</td>\n",
       "      <td>1.0</td>\n",
       "      <td>3.0</td>\n",
       "      <td>2022-02-01</td>\n",
       "      <td>4</td>\n",
       "      <td>3.0</td>\n",
       "    </tr>\n",
       "    <tr>\n",
       "      <th>4</th>\n",
       "      <td>0.0</td>\n",
       "      <td>0.0</td>\n",
       "      <td>0.0</td>\n",
       "      <td>0.0</td>\n",
       "      <td>0.0</td>\n",
       "      <td>0.0</td>\n",
       "      <td>3.0</td>\n",
       "      <td>4.0</td>\n",
       "      <td>1.0</td>\n",
       "      <td>2.0</td>\n",
       "      <td>...</td>\n",
       "      <td>3.0</td>\n",
       "      <td>8.0</td>\n",
       "      <td>3.0</td>\n",
       "      <td>0.0</td>\n",
       "      <td>4.0</td>\n",
       "      <td>4.0</td>\n",
       "      <td>3.0</td>\n",
       "      <td>2022-02-02</td>\n",
       "      <td>4</td>\n",
       "      <td>1.0</td>\n",
       "    </tr>\n",
       "    <tr>\n",
       "      <th>...</th>\n",
       "      <td>...</td>\n",
       "      <td>...</td>\n",
       "      <td>...</td>\n",
       "      <td>...</td>\n",
       "      <td>...</td>\n",
       "      <td>...</td>\n",
       "      <td>...</td>\n",
       "      <td>...</td>\n",
       "      <td>...</td>\n",
       "      <td>...</td>\n",
       "      <td>...</td>\n",
       "      <td>...</td>\n",
       "      <td>...</td>\n",
       "      <td>...</td>\n",
       "      <td>...</td>\n",
       "      <td>...</td>\n",
       "      <td>...</td>\n",
       "      <td>...</td>\n",
       "      <td>...</td>\n",
       "      <td>...</td>\n",
       "      <td>...</td>\n",
       "    </tr>\n",
       "    <tr>\n",
       "      <th>72307</th>\n",
       "      <td>0.0</td>\n",
       "      <td>0.0</td>\n",
       "      <td>0.0</td>\n",
       "      <td>0.0</td>\n",
       "      <td>0.0</td>\n",
       "      <td>0.0</td>\n",
       "      <td>0.0</td>\n",
       "      <td>0.0</td>\n",
       "      <td>0.0</td>\n",
       "      <td>0.0</td>\n",
       "      <td>...</td>\n",
       "      <td>0.0</td>\n",
       "      <td>0.0</td>\n",
       "      <td>0.0</td>\n",
       "      <td>0.0</td>\n",
       "      <td>0.0</td>\n",
       "      <td>0.0</td>\n",
       "      <td>0.0</td>\n",
       "      <td>2022-10-27</td>\n",
       "      <td>199</td>\n",
       "      <td>0.0</td>\n",
       "    </tr>\n",
       "    <tr>\n",
       "      <th>72308</th>\n",
       "      <td>0.0</td>\n",
       "      <td>0.0</td>\n",
       "      <td>0.0</td>\n",
       "      <td>0.0</td>\n",
       "      <td>0.0</td>\n",
       "      <td>0.0</td>\n",
       "      <td>0.0</td>\n",
       "      <td>0.0</td>\n",
       "      <td>0.0</td>\n",
       "      <td>0.0</td>\n",
       "      <td>...</td>\n",
       "      <td>0.0</td>\n",
       "      <td>0.0</td>\n",
       "      <td>0.0</td>\n",
       "      <td>0.0</td>\n",
       "      <td>0.0</td>\n",
       "      <td>0.0</td>\n",
       "      <td>0.0</td>\n",
       "      <td>2022-10-28</td>\n",
       "      <td>199</td>\n",
       "      <td>0.0</td>\n",
       "    </tr>\n",
       "    <tr>\n",
       "      <th>72309</th>\n",
       "      <td>0.0</td>\n",
       "      <td>0.0</td>\n",
       "      <td>0.0</td>\n",
       "      <td>0.0</td>\n",
       "      <td>0.0</td>\n",
       "      <td>0.0</td>\n",
       "      <td>0.0</td>\n",
       "      <td>0.0</td>\n",
       "      <td>0.0</td>\n",
       "      <td>0.0</td>\n",
       "      <td>...</td>\n",
       "      <td>0.0</td>\n",
       "      <td>0.0</td>\n",
       "      <td>0.0</td>\n",
       "      <td>0.0</td>\n",
       "      <td>0.0</td>\n",
       "      <td>0.0</td>\n",
       "      <td>0.0</td>\n",
       "      <td>2022-10-29</td>\n",
       "      <td>199</td>\n",
       "      <td>0.0</td>\n",
       "    </tr>\n",
       "    <tr>\n",
       "      <th>72310</th>\n",
       "      <td>0.0</td>\n",
       "      <td>0.0</td>\n",
       "      <td>0.0</td>\n",
       "      <td>0.0</td>\n",
       "      <td>0.0</td>\n",
       "      <td>0.0</td>\n",
       "      <td>0.0</td>\n",
       "      <td>0.0</td>\n",
       "      <td>0.0</td>\n",
       "      <td>0.0</td>\n",
       "      <td>...</td>\n",
       "      <td>0.0</td>\n",
       "      <td>0.0</td>\n",
       "      <td>0.0</td>\n",
       "      <td>0.0</td>\n",
       "      <td>0.0</td>\n",
       "      <td>0.0</td>\n",
       "      <td>0.0</td>\n",
       "      <td>2022-10-30</td>\n",
       "      <td>199</td>\n",
       "      <td>0.0</td>\n",
       "    </tr>\n",
       "    <tr>\n",
       "      <th>72311</th>\n",
       "      <td>0.0</td>\n",
       "      <td>0.0</td>\n",
       "      <td>0.0</td>\n",
       "      <td>0.0</td>\n",
       "      <td>0.0</td>\n",
       "      <td>0.0</td>\n",
       "      <td>0.0</td>\n",
       "      <td>0.0</td>\n",
       "      <td>0.0</td>\n",
       "      <td>0.0</td>\n",
       "      <td>...</td>\n",
       "      <td>0.0</td>\n",
       "      <td>0.0</td>\n",
       "      <td>0.0</td>\n",
       "      <td>0.0</td>\n",
       "      <td>0.0</td>\n",
       "      <td>0.0</td>\n",
       "      <td>0.0</td>\n",
       "      <td>2022-10-31</td>\n",
       "      <td>199</td>\n",
       "      <td>0.0</td>\n",
       "    </tr>\n",
       "  </tbody>\n",
       "</table>\n",
       "<p>72312 rows × 675 columns</p>\n",
       "</div>"
      ],
      "text/plain": [
       "       rides_previous_672_hour  rides_previous_671_hour  \\\n",
       "0                         11.0                     15.0   \n",
       "1                          1.0                      0.0   \n",
       "2                          0.0                      1.0   \n",
       "3                          1.0                      1.0   \n",
       "4                          0.0                      0.0   \n",
       "...                        ...                      ...   \n",
       "72307                      0.0                      0.0   \n",
       "72308                      0.0                      0.0   \n",
       "72309                      0.0                      0.0   \n",
       "72310                      0.0                      0.0   \n",
       "72311                      0.0                      0.0   \n",
       "\n",
       "       rides_previous_670_hour  rides_previous_669_hour  \\\n",
       "0                         26.0                      8.0   \n",
       "1                          2.0                      0.0   \n",
       "2                          0.0                      0.0   \n",
       "3                          0.0                      0.0   \n",
       "4                          0.0                      0.0   \n",
       "...                        ...                      ...   \n",
       "72307                      0.0                      0.0   \n",
       "72308                      0.0                      0.0   \n",
       "72309                      0.0                      0.0   \n",
       "72310                      0.0                      0.0   \n",
       "72311                      0.0                      0.0   \n",
       "\n",
       "       rides_previous_668_hour  rides_previous_667_hour  \\\n",
       "0                          9.0                      7.0   \n",
       "1                          0.0                      0.0   \n",
       "2                          1.0                      1.0   \n",
       "3                          0.0                      3.0   \n",
       "4                          0.0                      0.0   \n",
       "...                        ...                      ...   \n",
       "72307                      0.0                      0.0   \n",
       "72308                      0.0                      0.0   \n",
       "72309                      0.0                      0.0   \n",
       "72310                      0.0                      0.0   \n",
       "72311                      0.0                      0.0   \n",
       "\n",
       "       rides_previous_666_hour  rides_previous_665_hour  \\\n",
       "0                          3.0                      1.0   \n",
       "1                          0.0                      0.0   \n",
       "2                          1.0                      3.0   \n",
       "3                          2.0                      3.0   \n",
       "4                          3.0                      4.0   \n",
       "...                        ...                      ...   \n",
       "72307                      0.0                      0.0   \n",
       "72308                      0.0                      0.0   \n",
       "72309                      0.0                      0.0   \n",
       "72310                      0.0                      0.0   \n",
       "72311                      0.0                      0.0   \n",
       "\n",
       "       rides_previous_664_hour  rides_previous_663_hour  ...  \\\n",
       "0                          0.0                      3.0  ...   \n",
       "1                          1.0                      1.0  ...   \n",
       "2                          2.0                      3.0  ...   \n",
       "3                          4.0                      5.0  ...   \n",
       "4                          1.0                      2.0  ...   \n",
       "...                        ...                      ...  ...   \n",
       "72307                      0.0                      0.0  ...   \n",
       "72308                      0.0                      0.0  ...   \n",
       "72309                      0.0                      0.0  ...   \n",
       "72310                      0.0                      0.0  ...   \n",
       "72311                      0.0                      0.0  ...   \n",
       "\n",
       "       rides_previous_7_hour  rides_previous_6_hour  rides_previous_5_hour  \\\n",
       "0                       11.0                    7.0                    4.0   \n",
       "1                        5.0                    4.0                   10.0   \n",
       "2                        8.0                    7.0                    8.0   \n",
       "3                        3.0                   16.0                    7.0   \n",
       "4                        3.0                    8.0                    3.0   \n",
       "...                      ...                    ...                    ...   \n",
       "72307                    0.0                    0.0                    0.0   \n",
       "72308                    0.0                    0.0                    0.0   \n",
       "72309                    0.0                    0.0                    0.0   \n",
       "72310                    0.0                    0.0                    0.0   \n",
       "72311                    0.0                    0.0                    0.0   \n",
       "\n",
       "       rides_previous_4_hour  rides_previous_3_hour  rides_previous_2_hour  \\\n",
       "0                        3.0                    4.0                    9.0   \n",
       "1                        7.0                    5.0                    9.0   \n",
       "2                        5.0                    5.0                   10.0   \n",
       "3                        1.0                    0.0                    1.0   \n",
       "4                        0.0                    4.0                    4.0   \n",
       "...                      ...                    ...                    ...   \n",
       "72307                    0.0                    0.0                    0.0   \n",
       "72308                    0.0                    0.0                    0.0   \n",
       "72309                    0.0                    0.0                    0.0   \n",
       "72310                    0.0                    0.0                    0.0   \n",
       "72311                    0.0                    0.0                    0.0   \n",
       "\n",
       "       rides_previous_1_hour  pickup_hour  pickup_location_id  \\\n",
       "0                       19.0   2022-01-29                   4   \n",
       "1                       10.0   2022-01-30                   4   \n",
       "2                        0.0   2022-01-31                   4   \n",
       "3                        3.0   2022-02-01                   4   \n",
       "4                        3.0   2022-02-02                   4   \n",
       "...                      ...          ...                 ...   \n",
       "72307                    0.0   2022-10-27                 199   \n",
       "72308                    0.0   2022-10-28                 199   \n",
       "72309                    0.0   2022-10-29                 199   \n",
       "72310                    0.0   2022-10-30                 199   \n",
       "72311                    0.0   2022-10-31                 199   \n",
       "\n",
       "       target_rides_next_hour  \n",
       "0                        17.0  \n",
       "1                         9.0  \n",
       "2                         3.0  \n",
       "3                         3.0  \n",
       "4                         1.0  \n",
       "...                       ...  \n",
       "72307                     0.0  \n",
       "72308                     0.0  \n",
       "72309                     0.0  \n",
       "72310                     0.0  \n",
       "72311                     0.0  \n",
       "\n",
       "[72312 rows x 675 columns]"
      ]
     },
     "execution_count": 2,
     "metadata": {},
     "output_type": "execute_result"
    }
   ],
   "source": [
    "import pandas as pd\n",
    "from src.paths import TRANSFORMED_DATA_DIR\n",
    "\n",
    "df = pd.read_parquet(TRANSFORMED_DATA_DIR / 'tabular_data.parquet')\n",
    "df"
   ]
  },
  {
   "cell_type": "code",
   "execution_count": 3,
   "metadata": {},
   "outputs": [
    {
     "name": "stdout",
     "output_type": "stream",
     "text": [
      "X_train.shape=(32226, 674)\n",
      "y_train.shape=(32226,)\n",
      "X_test.shape=(40086, 674)\n",
      "y_test.shape=(40086,)\n"
     ]
    }
   ],
   "source": [
    "from datetime import datetime\n",
    "from src.data_split import train_test_split\n",
    "\n",
    "X_train, y_train, X_test, y_test = train_test_split(\n",
    "    df,\n",
    "    cutoff_date=datetime(2022, 6, 1, 0, 0, 0),\n",
    "    target_column_name='target_rides_next_hour'\n",
    ")\n",
    "\n",
    "print(f'{X_train.shape=}')\n",
    "print(f'{y_train.shape=}')\n",
    "print(f'{X_test.shape=}')\n",
    "print(f'{y_test.shape=}')"
   ]
  },
  {
   "cell_type": "code",
   "execution_count": 6,
   "metadata": {},
   "outputs": [],
   "source": [
    "import numpy as np\n",
    "from sklearn.model_selection import KFold, TimeSeriesSplit\n",
    "from sklearn.pipeline import make_pipeline\n",
    "from sklearn.metrics import mean_absolute_error\n",
    "import optuna\n",
    "\n",
    "from src.model import get_pipeline\n",
    "\n",
    "def objective(trial: optuna.trial.Trial) -> float:\n",
    "    \"\"\"\n",
    "    Given a set of hyper-parameters, it trains a model and computes an average\n",
    "    validation error based on a TimeSeriesSplit\n",
    "    \"\"\"\n",
    "    # pick hyper-parameters\n",
    "    hyperparams = {\n",
    "        \"metric\": 'mae',\n",
    "        \"verbose\": -1,\n",
    "        \"num_leaves\": trial.suggest_int(\"num_leaves\", 2, 256),\n",
    "        \"feature_fraction\": trial.suggest_float(\"feature_fraction\", 0.2, 1.0),\n",
    "        \"bagging_fraction\": trial.suggest_float(\"bagging_fraction\", 0.2, 1.0),\n",
    "        \"min_child_samples\": trial.suggest_int(\"min_child_samples\", 3, 100),   \n",
    "    }\n",
    "       \n",
    "    tss = TimeSeriesSplit(n_splits=2)\n",
    "    scores = []\n",
    "    for train_index, val_index in tss.split(X_train):\n",
    "\n",
    "        # split data for training and validation\n",
    "        X_train_, X_val_ = X_train.iloc[train_index, :], X_train.iloc[val_index,:]\n",
    "        y_train_, y_val_ = y_train.iloc[train_index], y_train.iloc[val_index]\n",
    "        \n",
    "        # train the model\n",
    "        pipeline = get_pipeline(**hyperparams)\n",
    "        pipeline.fit(X_train_, y_train_)\n",
    "        \n",
    "        # evaluate the model\n",
    "        y_pred = pipeline.predict(X_val_)\n",
    "        mae = mean_absolute_error(y_val_, y_pred)\n",
    "\n",
    "        scores.append(mae)\n",
    "   \n",
    "    # Return the mean score\n",
    "    return np.array(scores).mean()"
   ]
  },
  {
   "cell_type": "code",
   "execution_count": 7,
   "metadata": {},
   "outputs": [
    {
     "name": "stderr",
     "output_type": "stream",
     "text": [
      "\u001b[32m[I 2023-01-04 13:14:19,000]\u001b[0m A new study created in memory with name: no-name-8f899f10-6f6f-4c6b-a6bd-c9935e37d3d6\u001b[0m\n"
     ]
    },
    {
     "name": "stdout",
     "output_type": "stream",
     "text": [
      "[LightGBM] [Warning] bagging_fraction is set=0.509600620422143, subsample=1.0 will be ignored. Current value: bagging_fraction=0.509600620422143\n",
      "[LightGBM] [Warning] feature_fraction is set=0.735691412359843, colsample_bytree=1.0 will be ignored. Current value: feature_fraction=0.735691412359843\n"
     ]
    },
    {
     "name": "stderr",
     "output_type": "stream",
     "text": [
      "\u001b[32m[I 2023-01-04 13:16:02,328]\u001b[0m Trial 0 finished with value: 0.4852752508170715 and parameters: {'num_leaves': 105, 'feature_fraction': 0.735691412359843, 'bagging_fraction': 0.509600620422143, 'min_child_samples': 41}. Best is trial 0 with value: 0.4852752508170715.\u001b[0m\n"
     ]
    },
    {
     "name": "stdout",
     "output_type": "stream",
     "text": [
      "[LightGBM] [Warning] bagging_fraction is set=0.5464189359948948, subsample=1.0 will be ignored. Current value: bagging_fraction=0.5464189359948948\n",
      "[LightGBM] [Warning] feature_fraction is set=0.5868480384232153, colsample_bytree=1.0 will be ignored. Current value: feature_fraction=0.5868480384232153\n",
      "[LightGBM] [Warning] bagging_fraction is set=0.5464189359948948, subsample=1.0 will be ignored. Current value: bagging_fraction=0.5464189359948948\n",
      "[LightGBM] [Warning] feature_fraction is set=0.5868480384232153, colsample_bytree=1.0 will be ignored. Current value: feature_fraction=0.5868480384232153\n"
     ]
    },
    {
     "name": "stderr",
     "output_type": "stream",
     "text": [
      "\u001b[32m[I 2023-01-04 13:16:25,435]\u001b[0m Trial 1 finished with value: 0.4580109922962035 and parameters: {'num_leaves': 156, 'feature_fraction': 0.5868480384232153, 'bagging_fraction': 0.5464189359948948, 'min_child_samples': 26}. Best is trial 1 with value: 0.4580109922962035.\u001b[0m\n"
     ]
    },
    {
     "name": "stdout",
     "output_type": "stream",
     "text": [
      "[LightGBM] [Warning] bagging_fraction is set=0.9257726290857218, subsample=1.0 will be ignored. Current value: bagging_fraction=0.9257726290857218\n",
      "[LightGBM] [Warning] feature_fraction is set=0.7670872914267415, colsample_bytree=1.0 will be ignored. Current value: feature_fraction=0.7670872914267415\n",
      "[LightGBM] [Warning] bagging_fraction is set=0.9257726290857218, subsample=1.0 will be ignored. Current value: bagging_fraction=0.9257726290857218\n",
      "[LightGBM] [Warning] feature_fraction is set=0.7670872914267415, colsample_bytree=1.0 will be ignored. Current value: feature_fraction=0.7670872914267415\n"
     ]
    },
    {
     "name": "stderr",
     "output_type": "stream",
     "text": [
      "\u001b[32m[I 2023-01-04 13:16:37,223]\u001b[0m Trial 2 finished with value: 0.5484434725933172 and parameters: {'num_leaves': 51, 'feature_fraction': 0.7670872914267415, 'bagging_fraction': 0.9257726290857218, 'min_child_samples': 15}. Best is trial 1 with value: 0.4580109922962035.\u001b[0m\n"
     ]
    },
    {
     "name": "stdout",
     "output_type": "stream",
     "text": [
      "[LightGBM] [Warning] bagging_fraction is set=0.43841255770739274, subsample=1.0 will be ignored. Current value: bagging_fraction=0.43841255770739274\n",
      "[LightGBM] [Warning] feature_fraction is set=0.5379987902487102, colsample_bytree=1.0 will be ignored. Current value: feature_fraction=0.5379987902487102\n",
      "[LightGBM] [Warning] bagging_fraction is set=0.43841255770739274, subsample=1.0 will be ignored. Current value: bagging_fraction=0.43841255770739274\n",
      "[LightGBM] [Warning] feature_fraction is set=0.5379987902487102, colsample_bytree=1.0 will be ignored. Current value: feature_fraction=0.5379987902487102\n"
     ]
    },
    {
     "name": "stderr",
     "output_type": "stream",
     "text": [
      "\u001b[32m[I 2023-01-04 13:17:14,883]\u001b[0m Trial 3 finished with value: 0.46129337308423635 and parameters: {'num_leaves': 142, 'feature_fraction': 0.5379987902487102, 'bagging_fraction': 0.43841255770739274, 'min_child_samples': 6}. Best is trial 1 with value: 0.4580109922962035.\u001b[0m\n"
     ]
    },
    {
     "name": "stdout",
     "output_type": "stream",
     "text": [
      "[LightGBM] [Warning] bagging_fraction is set=0.625309822442107, subsample=1.0 will be ignored. Current value: bagging_fraction=0.625309822442107\n",
      "[LightGBM] [Warning] feature_fraction is set=0.6402569735940813, colsample_bytree=1.0 will be ignored. Current value: feature_fraction=0.6402569735940813\n",
      "[LightGBM] [Warning] bagging_fraction is set=0.625309822442107, subsample=1.0 will be ignored. Current value: bagging_fraction=0.625309822442107\n",
      "[LightGBM] [Warning] feature_fraction is set=0.6402569735940813, colsample_bytree=1.0 will be ignored. Current value: feature_fraction=0.6402569735940813\n"
     ]
    },
    {
     "name": "stderr",
     "output_type": "stream",
     "text": [
      "\u001b[32m[I 2023-01-04 13:18:44,016]\u001b[0m Trial 4 finished with value: 0.4349796101389788 and parameters: {'num_leaves': 161, 'feature_fraction': 0.6402569735940813, 'bagging_fraction': 0.625309822442107, 'min_child_samples': 34}. Best is trial 4 with value: 0.4349796101389788.\u001b[0m\n"
     ]
    }
   ],
   "source": [
    "study = optuna.create_study(direction=\"minimize\")\n",
    "study.optimize(objective, n_trials=5)"
   ]
  },
  {
   "cell_type": "code",
   "execution_count": 8,
   "metadata": {},
   "outputs": [
    {
     "name": "stdout",
     "output_type": "stream",
     "text": [
      "best_params={'num_leaves': 161, 'feature_fraction': 0.6402569735940813, 'bagging_fraction': 0.625309822442107, 'min_child_samples': 34}\n"
     ]
    }
   ],
   "source": [
    "best_params = study.best_trial.params\n",
    "print(f'{best_params=}')"
   ]
  },
  {
   "cell_type": "code",
   "execution_count": 9,
   "metadata": {},
   "outputs": [
    {
     "name": "stdout",
     "output_type": "stream",
     "text": [
      "[LightGBM] [Warning] bagging_fraction is set=0.625309822442107, subsample=1.0 will be ignored. Current value: bagging_fraction=0.625309822442107\n",
      "[LightGBM] [Warning] feature_fraction is set=0.6402569735940813, colsample_bytree=1.0 will be ignored. Current value: feature_fraction=0.6402569735940813\n"
     ]
    },
    {
     "data": {
      "text/html": [
       "<style>#sk-container-id-1 {color: black;background-color: white;}#sk-container-id-1 pre{padding: 0;}#sk-container-id-1 div.sk-toggleable {background-color: white;}#sk-container-id-1 label.sk-toggleable__label {cursor: pointer;display: block;width: 100%;margin-bottom: 0;padding: 0.3em;box-sizing: border-box;text-align: center;}#sk-container-id-1 label.sk-toggleable__label-arrow:before {content: \"▸\";float: left;margin-right: 0.25em;color: #696969;}#sk-container-id-1 label.sk-toggleable__label-arrow:hover:before {color: black;}#sk-container-id-1 div.sk-estimator:hover label.sk-toggleable__label-arrow:before {color: black;}#sk-container-id-1 div.sk-toggleable__content {max-height: 0;max-width: 0;overflow: hidden;text-align: left;background-color: #f0f8ff;}#sk-container-id-1 div.sk-toggleable__content pre {margin: 0.2em;color: black;border-radius: 0.25em;background-color: #f0f8ff;}#sk-container-id-1 input.sk-toggleable__control:checked~div.sk-toggleable__content {max-height: 200px;max-width: 100%;overflow: auto;}#sk-container-id-1 input.sk-toggleable__control:checked~label.sk-toggleable__label-arrow:before {content: \"▾\";}#sk-container-id-1 div.sk-estimator input.sk-toggleable__control:checked~label.sk-toggleable__label {background-color: #d4ebff;}#sk-container-id-1 div.sk-label input.sk-toggleable__control:checked~label.sk-toggleable__label {background-color: #d4ebff;}#sk-container-id-1 input.sk-hidden--visually {border: 0;clip: rect(1px 1px 1px 1px);clip: rect(1px, 1px, 1px, 1px);height: 1px;margin: -1px;overflow: hidden;padding: 0;position: absolute;width: 1px;}#sk-container-id-1 div.sk-estimator {font-family: monospace;background-color: #f0f8ff;border: 1px dotted black;border-radius: 0.25em;box-sizing: border-box;margin-bottom: 0.5em;}#sk-container-id-1 div.sk-estimator:hover {background-color: #d4ebff;}#sk-container-id-1 div.sk-parallel-item::after {content: \"\";width: 100%;border-bottom: 1px solid gray;flex-grow: 1;}#sk-container-id-1 div.sk-label:hover label.sk-toggleable__label {background-color: #d4ebff;}#sk-container-id-1 div.sk-serial::before {content: \"\";position: absolute;border-left: 1px solid gray;box-sizing: border-box;top: 0;bottom: 0;left: 50%;z-index: 0;}#sk-container-id-1 div.sk-serial {display: flex;flex-direction: column;align-items: center;background-color: white;padding-right: 0.2em;padding-left: 0.2em;position: relative;}#sk-container-id-1 div.sk-item {position: relative;z-index: 1;}#sk-container-id-1 div.sk-parallel {display: flex;align-items: stretch;justify-content: center;background-color: white;position: relative;}#sk-container-id-1 div.sk-item::before, #sk-container-id-1 div.sk-parallel-item::before {content: \"\";position: absolute;border-left: 1px solid gray;box-sizing: border-box;top: 0;bottom: 0;left: 50%;z-index: -1;}#sk-container-id-1 div.sk-parallel-item {display: flex;flex-direction: column;z-index: 1;position: relative;background-color: white;}#sk-container-id-1 div.sk-parallel-item:first-child::after {align-self: flex-end;width: 50%;}#sk-container-id-1 div.sk-parallel-item:last-child::after {align-self: flex-start;width: 50%;}#sk-container-id-1 div.sk-parallel-item:only-child::after {width: 0;}#sk-container-id-1 div.sk-dashed-wrapped {border: 1px dashed gray;margin: 0 0.4em 0.5em 0.4em;box-sizing: border-box;padding-bottom: 0.4em;background-color: white;}#sk-container-id-1 div.sk-label label {font-family: monospace;font-weight: bold;display: inline-block;line-height: 1.2em;}#sk-container-id-1 div.sk-label-container {text-align: center;}#sk-container-id-1 div.sk-container {/* jupyter's `normalize.less` sets `[hidden] { display: none; }` but bootstrap.min.css set `[hidden] { display: none !important; }` so we also need the `!important` here to be able to override the default hidden behavior on the sphinx rendered scikit-learn.org. See: https://github.com/scikit-learn/scikit-learn/issues/21755 */display: inline-block !important;position: relative;}#sk-container-id-1 div.sk-text-repr-fallback {display: none;}</style><div id=\"sk-container-id-1\" class=\"sk-top-container\"><div class=\"sk-text-repr-fallback\"><pre>Pipeline(steps=[(&#x27;functiontransformer&#x27;,\n",
       "                 FunctionTransformer(func=&lt;function average_rides_last_4_weeks at 0x130373b80&gt;)),\n",
       "                (&#x27;temporalfeaturesengineer&#x27;, TemporalFeaturesEngineer()),\n",
       "                (&#x27;lgbmregressor&#x27;,\n",
       "                 LGBMRegressor(bagging_fraction=0.625309822442107,\n",
       "                               feature_fraction=0.6402569735940813,\n",
       "                               min_child_samples=34, num_leaves=161))])</pre><b>In a Jupyter environment, please rerun this cell to show the HTML representation or trust the notebook. <br />On GitHub, the HTML representation is unable to render, please try loading this page with nbviewer.org.</b></div><div class=\"sk-container\" hidden><div class=\"sk-item sk-dashed-wrapped\"><div class=\"sk-label-container\"><div class=\"sk-label sk-toggleable\"><input class=\"sk-toggleable__control sk-hidden--visually\" id=\"sk-estimator-id-1\" type=\"checkbox\" ><label for=\"sk-estimator-id-1\" class=\"sk-toggleable__label sk-toggleable__label-arrow\">Pipeline</label><div class=\"sk-toggleable__content\"><pre>Pipeline(steps=[(&#x27;functiontransformer&#x27;,\n",
       "                 FunctionTransformer(func=&lt;function average_rides_last_4_weeks at 0x130373b80&gt;)),\n",
       "                (&#x27;temporalfeaturesengineer&#x27;, TemporalFeaturesEngineer()),\n",
       "                (&#x27;lgbmregressor&#x27;,\n",
       "                 LGBMRegressor(bagging_fraction=0.625309822442107,\n",
       "                               feature_fraction=0.6402569735940813,\n",
       "                               min_child_samples=34, num_leaves=161))])</pre></div></div></div><div class=\"sk-serial\"><div class=\"sk-item\"><div class=\"sk-estimator sk-toggleable\"><input class=\"sk-toggleable__control sk-hidden--visually\" id=\"sk-estimator-id-2\" type=\"checkbox\" ><label for=\"sk-estimator-id-2\" class=\"sk-toggleable__label sk-toggleable__label-arrow\">FunctionTransformer</label><div class=\"sk-toggleable__content\"><pre>FunctionTransformer(func=&lt;function average_rides_last_4_weeks at 0x130373b80&gt;)</pre></div></div></div><div class=\"sk-item\"><div class=\"sk-estimator sk-toggleable\"><input class=\"sk-toggleable__control sk-hidden--visually\" id=\"sk-estimator-id-3\" type=\"checkbox\" ><label for=\"sk-estimator-id-3\" class=\"sk-toggleable__label sk-toggleable__label-arrow\">TemporalFeaturesEngineer</label><div class=\"sk-toggleable__content\"><pre>TemporalFeaturesEngineer()</pre></div></div></div><div class=\"sk-item\"><div class=\"sk-estimator sk-toggleable\"><input class=\"sk-toggleable__control sk-hidden--visually\" id=\"sk-estimator-id-4\" type=\"checkbox\" ><label for=\"sk-estimator-id-4\" class=\"sk-toggleable__label sk-toggleable__label-arrow\">LGBMRegressor</label><div class=\"sk-toggleable__content\"><pre>LGBMRegressor(bagging_fraction=0.625309822442107,\n",
       "              feature_fraction=0.6402569735940813, min_child_samples=34,\n",
       "              num_leaves=161)</pre></div></div></div></div></div></div></div>"
      ],
      "text/plain": [
       "Pipeline(steps=[('functiontransformer',\n",
       "                 FunctionTransformer(func=<function average_rides_last_4_weeks at 0x130373b80>)),\n",
       "                ('temporalfeaturesengineer', TemporalFeaturesEngineer()),\n",
       "                ('lgbmregressor',\n",
       "                 LGBMRegressor(bagging_fraction=0.625309822442107,\n",
       "                               feature_fraction=0.6402569735940813,\n",
       "                               min_child_samples=34, num_leaves=161))])"
      ]
     },
     "execution_count": 9,
     "metadata": {},
     "output_type": "execute_result"
    }
   ],
   "source": [
    "pipeline = get_pipeline(**best_params)\n",
    "pipeline.fit(X_train, y_train)"
   ]
  },
  {
   "cell_type": "code",
   "execution_count": 10,
   "metadata": {},
   "outputs": [
    {
     "name": "stdout",
     "output_type": "stream",
     "text": [
      "test_mae=2.4575\n"
     ]
    }
   ],
   "source": [
    "predictions = pipeline.predict(X_test)\n",
    "test_mae = mean_absolute_error(y_test, predictions)\n",
    "print(f'{test_mae=:.4f}')"
   ]
  },
  {
   "cell_type": "code",
   "execution_count": 11,
   "metadata": {},
   "outputs": [
    {
     "data": {
      "application/vnd.plotly.v1+json": {
       "config": {
        "plotlyServerURL": "https://plot.ly"
       },
       "data": [
        {
         "hovertemplate": "x=%{x}<br>y=%{y}<extra></extra>",
         "legendgroup": "",
         "line": {
          "color": "#636efa",
          "dash": "solid"
         },
         "marker": {
          "symbol": "circle"
         },
         "mode": "markers+lines",
         "name": "",
         "orientation": "v",
         "showlegend": false,
         "type": "scatter",
         "x": [
          "2022-07-15T00:00:00",
          "2022-07-15T01:00:00",
          "2022-07-15T02:00:00",
          "2022-07-15T03:00:00",
          "2022-07-15T04:00:00",
          "2022-07-15T05:00:00",
          "2022-07-15T06:00:00",
          "2022-07-15T07:00:00",
          "2022-07-15T08:00:00",
          "2022-07-15T09:00:00",
          "2022-07-15T10:00:00",
          "2022-07-15T11:00:00",
          "2022-07-15T12:00:00",
          "2022-07-15T13:00:00",
          "2022-07-15T14:00:00",
          "2022-07-15T15:00:00",
          "2022-07-15T16:00:00",
          "2022-07-15T17:00:00",
          "2022-07-15T18:00:00",
          "2022-07-15T19:00:00",
          "2022-07-15T20:00:00",
          "2022-07-15T21:00:00",
          "2022-07-15T22:00:00",
          "2022-07-15T23:00:00",
          "2022-07-16T00:00:00",
          "2022-07-16T01:00:00",
          "2022-07-16T02:00:00",
          "2022-07-16T03:00:00",
          "2022-07-16T04:00:00",
          "2022-07-16T05:00:00",
          "2022-07-16T06:00:00",
          "2022-07-16T07:00:00",
          "2022-07-16T08:00:00",
          "2022-07-16T09:00:00",
          "2022-07-16T10:00:00",
          "2022-07-16T11:00:00",
          "2022-07-16T12:00:00",
          "2022-07-16T13:00:00",
          "2022-07-16T14:00:00",
          "2022-07-16T15:00:00",
          "2022-07-16T16:00:00",
          "2022-07-16T17:00:00",
          "2022-07-16T18:00:00",
          "2022-07-16T19:00:00",
          "2022-07-16T20:00:00",
          "2022-07-16T21:00:00",
          "2022-07-16T22:00:00",
          "2022-07-16T23:00:00",
          "2022-07-17T00:00:00",
          "2022-07-17T01:00:00",
          "2022-07-17T02:00:00",
          "2022-07-17T03:00:00",
          "2022-07-17T04:00:00",
          "2022-07-17T05:00:00",
          "2022-07-17T06:00:00",
          "2022-07-17T07:00:00",
          "2022-07-17T08:00:00",
          "2022-07-17T09:00:00",
          "2022-07-17T10:00:00",
          "2022-07-17T11:00:00",
          "2022-07-17T12:00:00",
          "2022-07-17T13:00:00",
          "2022-07-17T14:00:00",
          "2022-07-17T15:00:00",
          "2022-07-17T16:00:00",
          "2022-07-17T17:00:00",
          "2022-07-17T18:00:00",
          "2022-07-17T19:00:00",
          "2022-07-17T20:00:00",
          "2022-07-17T21:00:00",
          "2022-07-17T22:00:00",
          "2022-07-17T23:00:00",
          "2022-07-18T00:00:00",
          "2022-07-18T01:00:00",
          "2022-07-18T02:00:00",
          "2022-07-18T03:00:00",
          "2022-07-18T04:00:00",
          "2022-07-18T05:00:00",
          "2022-07-18T06:00:00",
          "2022-07-18T07:00:00",
          "2022-07-18T08:00:00",
          "2022-07-18T09:00:00",
          "2022-07-18T10:00:00",
          "2022-07-18T11:00:00",
          "2022-07-18T12:00:00",
          "2022-07-18T13:00:00",
          "2022-07-18T14:00:00",
          "2022-07-18T15:00:00",
          "2022-07-18T16:00:00",
          "2022-07-18T17:00:00",
          "2022-07-18T18:00:00",
          "2022-07-18T19:00:00",
          "2022-07-18T20:00:00",
          "2022-07-18T21:00:00",
          "2022-07-18T22:00:00",
          "2022-07-18T23:00:00",
          "2022-07-19T00:00:00",
          "2022-07-19T01:00:00",
          "2022-07-19T02:00:00",
          "2022-07-19T03:00:00",
          "2022-07-19T04:00:00",
          "2022-07-19T05:00:00",
          "2022-07-19T06:00:00",
          "2022-07-19T07:00:00",
          "2022-07-19T08:00:00",
          "2022-07-19T09:00:00",
          "2022-07-19T10:00:00",
          "2022-07-19T11:00:00",
          "2022-07-19T12:00:00",
          "2022-07-19T13:00:00",
          "2022-07-19T14:00:00",
          "2022-07-19T15:00:00",
          "2022-07-19T16:00:00",
          "2022-07-19T17:00:00",
          "2022-07-19T18:00:00",
          "2022-07-19T19:00:00",
          "2022-07-19T20:00:00",
          "2022-07-19T21:00:00",
          "2022-07-19T22:00:00",
          "2022-07-19T23:00:00",
          "2022-07-20T00:00:00",
          "2022-07-20T01:00:00",
          "2022-07-20T02:00:00",
          "2022-07-20T03:00:00",
          "2022-07-20T04:00:00",
          "2022-07-20T05:00:00",
          "2022-07-20T06:00:00",
          "2022-07-20T07:00:00",
          "2022-07-20T08:00:00",
          "2022-07-20T09:00:00",
          "2022-07-20T10:00:00",
          "2022-07-20T11:00:00",
          "2022-07-20T12:00:00",
          "2022-07-20T13:00:00",
          "2022-07-20T14:00:00",
          "2022-07-20T15:00:00",
          "2022-07-20T16:00:00",
          "2022-07-20T17:00:00",
          "2022-07-20T18:00:00",
          "2022-07-20T19:00:00",
          "2022-07-20T20:00:00",
          "2022-07-20T21:00:00",
          "2022-07-20T22:00:00",
          "2022-07-20T23:00:00",
          "2022-07-21T00:00:00",
          "2022-07-21T01:00:00",
          "2022-07-21T02:00:00",
          "2022-07-21T03:00:00",
          "2022-07-21T04:00:00",
          "2022-07-21T05:00:00",
          "2022-07-21T06:00:00",
          "2022-07-21T07:00:00",
          "2022-07-21T08:00:00",
          "2022-07-21T09:00:00",
          "2022-07-21T10:00:00",
          "2022-07-21T11:00:00",
          "2022-07-21T12:00:00",
          "2022-07-21T13:00:00",
          "2022-07-21T14:00:00",
          "2022-07-21T15:00:00",
          "2022-07-21T16:00:00",
          "2022-07-21T17:00:00",
          "2022-07-21T18:00:00",
          "2022-07-21T19:00:00",
          "2022-07-21T20:00:00",
          "2022-07-21T21:00:00",
          "2022-07-21T22:00:00",
          "2022-07-21T23:00:00",
          "2022-07-22T00:00:00",
          "2022-07-22T01:00:00",
          "2022-07-22T02:00:00",
          "2022-07-22T03:00:00",
          "2022-07-22T04:00:00",
          "2022-07-22T05:00:00",
          "2022-07-22T06:00:00",
          "2022-07-22T07:00:00",
          "2022-07-22T08:00:00",
          "2022-07-22T09:00:00",
          "2022-07-22T10:00:00",
          "2022-07-22T11:00:00",
          "2022-07-22T12:00:00",
          "2022-07-22T13:00:00",
          "2022-07-22T14:00:00",
          "2022-07-22T15:00:00",
          "2022-07-22T16:00:00",
          "2022-07-22T17:00:00",
          "2022-07-22T18:00:00",
          "2022-07-22T19:00:00",
          "2022-07-22T20:00:00",
          "2022-07-22T21:00:00",
          "2022-07-22T22:00:00",
          "2022-07-22T23:00:00",
          "2022-07-23T00:00:00",
          "2022-07-23T01:00:00",
          "2022-07-23T02:00:00",
          "2022-07-23T03:00:00",
          "2022-07-23T04:00:00",
          "2022-07-23T05:00:00",
          "2022-07-23T06:00:00",
          "2022-07-23T07:00:00",
          "2022-07-23T08:00:00",
          "2022-07-23T09:00:00",
          "2022-07-23T10:00:00",
          "2022-07-23T11:00:00",
          "2022-07-23T12:00:00",
          "2022-07-23T13:00:00",
          "2022-07-23T14:00:00",
          "2022-07-23T15:00:00",
          "2022-07-23T16:00:00",
          "2022-07-23T17:00:00",
          "2022-07-23T18:00:00",
          "2022-07-23T19:00:00",
          "2022-07-23T20:00:00",
          "2022-07-23T21:00:00",
          "2022-07-23T22:00:00",
          "2022-07-23T23:00:00",
          "2022-07-24T00:00:00",
          "2022-07-24T01:00:00",
          "2022-07-24T02:00:00",
          "2022-07-24T03:00:00",
          "2022-07-24T04:00:00",
          "2022-07-24T05:00:00",
          "2022-07-24T06:00:00",
          "2022-07-24T07:00:00",
          "2022-07-24T08:00:00",
          "2022-07-24T09:00:00",
          "2022-07-24T10:00:00",
          "2022-07-24T11:00:00",
          "2022-07-24T12:00:00",
          "2022-07-24T13:00:00",
          "2022-07-24T14:00:00",
          "2022-07-24T15:00:00",
          "2022-07-24T16:00:00",
          "2022-07-24T17:00:00",
          "2022-07-24T18:00:00",
          "2022-07-24T19:00:00",
          "2022-07-24T20:00:00",
          "2022-07-24T21:00:00",
          "2022-07-24T22:00:00",
          "2022-07-24T23:00:00",
          "2022-07-25T00:00:00",
          "2022-07-25T01:00:00",
          "2022-07-25T02:00:00",
          "2022-07-25T03:00:00",
          "2022-07-25T04:00:00",
          "2022-07-25T05:00:00",
          "2022-07-25T06:00:00",
          "2022-07-25T07:00:00",
          "2022-07-25T08:00:00",
          "2022-07-25T09:00:00",
          "2022-07-25T10:00:00",
          "2022-07-25T11:00:00",
          "2022-07-25T12:00:00",
          "2022-07-25T13:00:00",
          "2022-07-25T14:00:00",
          "2022-07-25T15:00:00",
          "2022-07-25T16:00:00",
          "2022-07-25T17:00:00",
          "2022-07-25T18:00:00",
          "2022-07-25T19:00:00",
          "2022-07-25T20:00:00",
          "2022-07-25T21:00:00",
          "2022-07-25T22:00:00",
          "2022-07-25T23:00:00",
          "2022-07-26T00:00:00",
          "2022-07-26T01:00:00",
          "2022-07-26T02:00:00",
          "2022-07-26T03:00:00",
          "2022-07-26T04:00:00",
          "2022-07-26T05:00:00",
          "2022-07-26T06:00:00",
          "2022-07-26T07:00:00",
          "2022-07-26T08:00:00",
          "2022-07-26T09:00:00",
          "2022-07-26T10:00:00",
          "2022-07-26T11:00:00",
          "2022-07-26T12:00:00",
          "2022-07-26T13:00:00",
          "2022-07-26T14:00:00",
          "2022-07-26T15:00:00",
          "2022-07-26T16:00:00",
          "2022-07-26T17:00:00",
          "2022-07-26T18:00:00",
          "2022-07-26T19:00:00",
          "2022-07-26T20:00:00",
          "2022-07-26T21:00:00",
          "2022-07-26T22:00:00",
          "2022-07-26T23:00:00",
          "2022-07-27T00:00:00",
          "2022-07-27T01:00:00",
          "2022-07-27T02:00:00",
          "2022-07-27T03:00:00",
          "2022-07-27T04:00:00",
          "2022-07-27T05:00:00",
          "2022-07-27T06:00:00",
          "2022-07-27T07:00:00",
          "2022-07-27T08:00:00",
          "2022-07-27T09:00:00",
          "2022-07-27T10:00:00",
          "2022-07-27T11:00:00",
          "2022-07-27T12:00:00",
          "2022-07-27T13:00:00",
          "2022-07-27T14:00:00",
          "2022-07-27T15:00:00",
          "2022-07-27T16:00:00",
          "2022-07-27T17:00:00",
          "2022-07-27T18:00:00",
          "2022-07-27T19:00:00",
          "2022-07-27T20:00:00",
          "2022-07-27T21:00:00",
          "2022-07-27T22:00:00",
          "2022-07-27T23:00:00",
          "2022-07-28T00:00:00",
          "2022-07-28T01:00:00",
          "2022-07-28T02:00:00",
          "2022-07-28T03:00:00",
          "2022-07-28T04:00:00",
          "2022-07-28T05:00:00",
          "2022-07-28T06:00:00",
          "2022-07-28T07:00:00",
          "2022-07-28T08:00:00",
          "2022-07-28T09:00:00",
          "2022-07-28T10:00:00",
          "2022-07-28T11:00:00",
          "2022-07-28T12:00:00",
          "2022-07-28T13:00:00",
          "2022-07-28T14:00:00",
          "2022-07-28T15:00:00",
          "2022-07-28T16:00:00",
          "2022-07-28T17:00:00",
          "2022-07-28T18:00:00",
          "2022-07-28T19:00:00",
          "2022-07-28T20:00:00",
          "2022-07-28T21:00:00",
          "2022-07-28T22:00:00",
          "2022-07-28T23:00:00",
          "2022-07-29T00:00:00",
          "2022-07-29T01:00:00",
          "2022-07-29T02:00:00",
          "2022-07-29T03:00:00",
          "2022-07-29T04:00:00",
          "2022-07-29T05:00:00",
          "2022-07-29T06:00:00",
          "2022-07-29T07:00:00",
          "2022-07-29T08:00:00",
          "2022-07-29T09:00:00",
          "2022-07-29T10:00:00",
          "2022-07-29T11:00:00",
          "2022-07-29T12:00:00",
          "2022-07-29T13:00:00",
          "2022-07-29T14:00:00",
          "2022-07-29T15:00:00",
          "2022-07-29T16:00:00",
          "2022-07-29T17:00:00",
          "2022-07-29T18:00:00",
          "2022-07-29T19:00:00",
          "2022-07-29T20:00:00",
          "2022-07-29T21:00:00",
          "2022-07-29T22:00:00",
          "2022-07-29T23:00:00",
          "2022-07-30T00:00:00",
          "2022-07-30T01:00:00",
          "2022-07-30T02:00:00",
          "2022-07-30T03:00:00",
          "2022-07-30T04:00:00",
          "2022-07-30T05:00:00",
          "2022-07-30T06:00:00",
          "2022-07-30T07:00:00",
          "2022-07-30T08:00:00",
          "2022-07-30T09:00:00",
          "2022-07-30T10:00:00",
          "2022-07-30T11:00:00",
          "2022-07-30T12:00:00",
          "2022-07-30T13:00:00",
          "2022-07-30T14:00:00",
          "2022-07-30T15:00:00",
          "2022-07-30T16:00:00",
          "2022-07-30T17:00:00",
          "2022-07-30T18:00:00",
          "2022-07-30T19:00:00",
          "2022-07-30T20:00:00",
          "2022-07-30T21:00:00",
          "2022-07-30T22:00:00",
          "2022-07-30T23:00:00",
          "2022-07-31T00:00:00",
          "2022-07-31T01:00:00",
          "2022-07-31T02:00:00",
          "2022-07-31T03:00:00",
          "2022-07-31T04:00:00",
          "2022-07-31T05:00:00",
          "2022-07-31T06:00:00",
          "2022-07-31T07:00:00",
          "2022-07-31T08:00:00",
          "2022-07-31T09:00:00",
          "2022-07-31T10:00:00",
          "2022-07-31T11:00:00",
          "2022-07-31T12:00:00",
          "2022-07-31T13:00:00",
          "2022-07-31T14:00:00",
          "2022-07-31T15:00:00",
          "2022-07-31T16:00:00",
          "2022-07-31T17:00:00",
          "2022-07-31T18:00:00",
          "2022-07-31T19:00:00",
          "2022-07-31T20:00:00",
          "2022-07-31T21:00:00",
          "2022-07-31T22:00:00",
          "2022-07-31T23:00:00",
          "2022-08-01T00:00:00",
          "2022-08-01T01:00:00",
          "2022-08-01T02:00:00",
          "2022-08-01T03:00:00",
          "2022-08-01T04:00:00",
          "2022-08-01T05:00:00",
          "2022-08-01T06:00:00",
          "2022-08-01T07:00:00",
          "2022-08-01T08:00:00",
          "2022-08-01T09:00:00",
          "2022-08-01T10:00:00",
          "2022-08-01T11:00:00",
          "2022-08-01T12:00:00",
          "2022-08-01T13:00:00",
          "2022-08-01T14:00:00",
          "2022-08-01T15:00:00",
          "2022-08-01T16:00:00",
          "2022-08-01T17:00:00",
          "2022-08-01T18:00:00",
          "2022-08-01T19:00:00",
          "2022-08-01T20:00:00",
          "2022-08-01T21:00:00",
          "2022-08-01T22:00:00",
          "2022-08-01T23:00:00",
          "2022-08-02T00:00:00",
          "2022-08-02T01:00:00",
          "2022-08-02T02:00:00",
          "2022-08-02T03:00:00",
          "2022-08-02T04:00:00",
          "2022-08-02T05:00:00",
          "2022-08-02T06:00:00",
          "2022-08-02T07:00:00",
          "2022-08-02T08:00:00",
          "2022-08-02T09:00:00",
          "2022-08-02T10:00:00",
          "2022-08-02T11:00:00",
          "2022-08-02T12:00:00",
          "2022-08-02T13:00:00",
          "2022-08-02T14:00:00",
          "2022-08-02T15:00:00",
          "2022-08-02T16:00:00",
          "2022-08-02T17:00:00",
          "2022-08-02T18:00:00",
          "2022-08-02T19:00:00",
          "2022-08-02T20:00:00",
          "2022-08-02T21:00:00",
          "2022-08-02T22:00:00",
          "2022-08-02T23:00:00",
          "2022-08-03T00:00:00",
          "2022-08-03T01:00:00",
          "2022-08-03T02:00:00",
          "2022-08-03T03:00:00",
          "2022-08-03T04:00:00",
          "2022-08-03T05:00:00",
          "2022-08-03T06:00:00",
          "2022-08-03T07:00:00",
          "2022-08-03T08:00:00",
          "2022-08-03T09:00:00",
          "2022-08-03T10:00:00",
          "2022-08-03T11:00:00",
          "2022-08-03T12:00:00",
          "2022-08-03T13:00:00",
          "2022-08-03T14:00:00",
          "2022-08-03T15:00:00",
          "2022-08-03T16:00:00",
          "2022-08-03T17:00:00",
          "2022-08-03T18:00:00",
          "2022-08-03T19:00:00",
          "2022-08-03T20:00:00",
          "2022-08-03T21:00:00",
          "2022-08-03T22:00:00",
          "2022-08-03T23:00:00",
          "2022-08-04T00:00:00",
          "2022-08-04T01:00:00",
          "2022-08-04T02:00:00",
          "2022-08-04T03:00:00",
          "2022-08-04T04:00:00",
          "2022-08-04T05:00:00",
          "2022-08-04T06:00:00",
          "2022-08-04T07:00:00",
          "2022-08-04T08:00:00",
          "2022-08-04T09:00:00",
          "2022-08-04T10:00:00",
          "2022-08-04T11:00:00",
          "2022-08-04T12:00:00",
          "2022-08-04T13:00:00",
          "2022-08-04T14:00:00",
          "2022-08-04T15:00:00",
          "2022-08-04T16:00:00",
          "2022-08-04T17:00:00",
          "2022-08-04T18:00:00",
          "2022-08-04T19:00:00",
          "2022-08-04T20:00:00",
          "2022-08-04T21:00:00",
          "2022-08-04T22:00:00",
          "2022-08-04T23:00:00",
          "2022-08-05T00:00:00",
          "2022-08-05T01:00:00",
          "2022-08-05T02:00:00",
          "2022-08-05T03:00:00",
          "2022-08-05T04:00:00",
          "2022-08-05T05:00:00",
          "2022-08-05T06:00:00",
          "2022-08-05T07:00:00",
          "2022-08-05T08:00:00",
          "2022-08-05T09:00:00",
          "2022-08-05T10:00:00",
          "2022-08-05T11:00:00",
          "2022-08-05T12:00:00",
          "2022-08-05T13:00:00",
          "2022-08-05T14:00:00",
          "2022-08-05T15:00:00",
          "2022-08-05T16:00:00",
          "2022-08-05T17:00:00",
          "2022-08-05T18:00:00",
          "2022-08-05T19:00:00",
          "2022-08-05T20:00:00",
          "2022-08-05T21:00:00",
          "2022-08-05T22:00:00",
          "2022-08-05T23:00:00",
          "2022-08-06T00:00:00",
          "2022-08-06T01:00:00",
          "2022-08-06T02:00:00",
          "2022-08-06T03:00:00",
          "2022-08-06T04:00:00",
          "2022-08-06T05:00:00",
          "2022-08-06T06:00:00",
          "2022-08-06T07:00:00",
          "2022-08-06T08:00:00",
          "2022-08-06T09:00:00",
          "2022-08-06T10:00:00",
          "2022-08-06T11:00:00",
          "2022-08-06T12:00:00",
          "2022-08-06T13:00:00",
          "2022-08-06T14:00:00",
          "2022-08-06T15:00:00",
          "2022-08-06T16:00:00",
          "2022-08-06T17:00:00",
          "2022-08-06T18:00:00",
          "2022-08-06T19:00:00",
          "2022-08-06T20:00:00",
          "2022-08-06T21:00:00",
          "2022-08-06T22:00:00",
          "2022-08-06T23:00:00",
          "2022-08-07T00:00:00",
          "2022-08-07T01:00:00",
          "2022-08-07T02:00:00",
          "2022-08-07T03:00:00",
          "2022-08-07T04:00:00",
          "2022-08-07T05:00:00",
          "2022-08-07T06:00:00",
          "2022-08-07T07:00:00",
          "2022-08-07T08:00:00",
          "2022-08-07T09:00:00",
          "2022-08-07T10:00:00",
          "2022-08-07T11:00:00",
          "2022-08-07T12:00:00",
          "2022-08-07T13:00:00",
          "2022-08-07T14:00:00",
          "2022-08-07T15:00:00",
          "2022-08-07T16:00:00",
          "2022-08-07T17:00:00",
          "2022-08-07T18:00:00",
          "2022-08-07T19:00:00",
          "2022-08-07T20:00:00",
          "2022-08-07T21:00:00",
          "2022-08-07T22:00:00",
          "2022-08-07T23:00:00",
          "2022-08-08T00:00:00",
          "2022-08-08T01:00:00",
          "2022-08-08T02:00:00",
          "2022-08-08T03:00:00",
          "2022-08-08T04:00:00",
          "2022-08-08T05:00:00",
          "2022-08-08T06:00:00",
          "2022-08-08T07:00:00",
          "2022-08-08T08:00:00",
          "2022-08-08T09:00:00",
          "2022-08-08T10:00:00",
          "2022-08-08T11:00:00",
          "2022-08-08T12:00:00",
          "2022-08-08T13:00:00",
          "2022-08-08T14:00:00",
          "2022-08-08T15:00:00",
          "2022-08-08T16:00:00",
          "2022-08-08T17:00:00",
          "2022-08-08T18:00:00",
          "2022-08-08T19:00:00",
          "2022-08-08T20:00:00",
          "2022-08-08T21:00:00",
          "2022-08-08T22:00:00",
          "2022-08-08T23:00:00",
          "2022-08-09T00:00:00",
          "2022-08-09T01:00:00",
          "2022-08-09T02:00:00",
          "2022-08-09T03:00:00",
          "2022-08-09T04:00:00",
          "2022-08-09T05:00:00",
          "2022-08-09T06:00:00",
          "2022-08-09T07:00:00",
          "2022-08-09T08:00:00",
          "2022-08-09T09:00:00",
          "2022-08-09T10:00:00",
          "2022-08-09T11:00:00",
          "2022-08-09T12:00:00",
          "2022-08-09T13:00:00",
          "2022-08-09T14:00:00",
          "2022-08-09T15:00:00",
          "2022-08-09T16:00:00",
          "2022-08-09T17:00:00",
          "2022-08-09T18:00:00",
          "2022-08-09T19:00:00",
          "2022-08-09T20:00:00",
          "2022-08-09T21:00:00",
          "2022-08-09T22:00:00",
          "2022-08-09T23:00:00",
          "2022-08-10T00:00:00",
          "2022-08-10T01:00:00",
          "2022-08-10T02:00:00",
          "2022-08-10T03:00:00",
          "2022-08-10T04:00:00",
          "2022-08-10T05:00:00",
          "2022-08-10T06:00:00",
          "2022-08-10T07:00:00",
          "2022-08-10T08:00:00",
          "2022-08-10T09:00:00",
          "2022-08-10T10:00:00",
          "2022-08-10T11:00:00",
          "2022-08-10T12:00:00",
          "2022-08-10T13:00:00",
          "2022-08-10T14:00:00",
          "2022-08-10T15:00:00",
          "2022-08-10T16:00:00",
          "2022-08-10T17:00:00",
          "2022-08-10T18:00:00",
          "2022-08-10T19:00:00",
          "2022-08-10T20:00:00",
          "2022-08-10T21:00:00",
          "2022-08-10T22:00:00",
          "2022-08-10T23:00:00",
          "2022-08-11T00:00:00",
          "2022-08-11T01:00:00",
          "2022-08-11T02:00:00",
          "2022-08-11T03:00:00",
          "2022-08-11T04:00:00",
          "2022-08-11T05:00:00",
          "2022-08-11T06:00:00",
          "2022-08-11T07:00:00",
          "2022-08-11T08:00:00",
          "2022-08-11T09:00:00",
          "2022-08-11T10:00:00",
          "2022-08-11T11:00:00",
          "2022-08-11T12:00:00",
          "2022-08-11T13:00:00",
          "2022-08-11T14:00:00",
          "2022-08-11T15:00:00",
          "2022-08-11T16:00:00",
          "2022-08-11T17:00:00",
          "2022-08-11T18:00:00",
          "2022-08-11T19:00:00",
          "2022-08-11T20:00:00",
          "2022-08-11T21:00:00",
          "2022-08-11T22:00:00",
          "2022-08-11T23:00:00",
          "2022-08-12T00:00:00"
         ],
         "xaxis": "x",
         "y": [
          134,
          71,
          78,
          38,
          9,
          20,
          46,
          49,
          82,
          124,
          153,
          118,
          123,
          136,
          145,
          156,
          168,
          180,
          226,
          210,
          169,
          166,
          166,
          149,
          153,
          125,
          99,
          71,
          26,
          23,
          25,
          22,
          55,
          71,
          124,
          136,
          192,
          180,
          195,
          161,
          157,
          198,
          239,
          213,
          201,
          171,
          149,
          142,
          128,
          122,
          118,
          67,
          34,
          14,
          19,
          23,
          38,
          60,
          91,
          114,
          126,
          141,
          171,
          159,
          148,
          155,
          191,
          173,
          157,
          161,
          127,
          89,
          40,
          33,
          34,
          12,
          13,
          24,
          39,
          56,
          79,
          119,
          119,
          125,
          136,
          107,
          148,
          108,
          136,
          157,
          197,
          161,
          151,
          147,
          100,
          62,
          43,
          31,
          28,
          9,
          10,
          13,
          36,
          48,
          112,
          147,
          130,
          127,
          135,
          147,
          155,
          163,
          193,
          194,
          256,
          245,
          209,
          187,
          147,
          113,
          52,
          36,
          18,
          6,
          10,
          19,
          42,
          68,
          104,
          173,
          132,
          144,
          145,
          167,
          156,
          149,
          169,
          211,
          259,
          264,
          208,
          160,
          143,
          123,
          83,
          45,
          33,
          16,
          6,
          24,
          35,
          69,
          118,
          128,
          149,
          145,
          171,
          169,
          135,
          134,
          199,
          197,
          221,
          255,
          228,
          178,
          147,
          127,
          109,
          57,
          54,
          32,
          24,
          17,
          34,
          48,
          67,
          134,
          137,
          123,
          130,
          127,
          134,
          146,
          147,
          174,
          233,
          200,
          172,
          164,
          154,
          163,
          156,
          99,
          101,
          70,
          28,
          10,
          28,
          21,
          40,
          88,
          115,
          154,
          152,
          181,
          168,
          195,
          160,
          196,
          165,
          227,
          182,
          183,
          166,
          140,
          129,
          121,
          82,
          69,
          41,
          17,
          17,
          22,
          38,
          69,
          104,
          130,
          144,
          151,
          180,
          174,
          182,
          174,
          174,
          195,
          142,
          141,
          122,
          96,
          53,
          26,
          13,
          10,
          9,
          15,
          42,
          62,
          92,
          87,
          125,
          115,
          130,
          144,
          132,
          150,
          118,
          167,
          184,
          215,
          159,
          133,
          125,
          94,
          43,
          20,
          13,
          5,
          3,
          14,
          29,
          53,
          100,
          118,
          99,
          121,
          137,
          154,
          145,
          152,
          135,
          219,
          212,
          196,
          194,
          154,
          112,
          89,
          71,
          33,
          9,
          14,
          4,
          13,
          42,
          52,
          106,
          130,
          105,
          116,
          135,
          143,
          154,
          174,
          179,
          240,
          250,
          237,
          200,
          148,
          153,
          102,
          70,
          39,
          14,
          13,
          9,
          16,
          42,
          55,
          118,
          134,
          131,
          121,
          144,
          159,
          141,
          170,
          151,
          167,
          221,
          240,
          195,
          155,
          140,
          131,
          121,
          80,
          70,
          32,
          12,
          24,
          29,
          49,
          121,
          129,
          125,
          118,
          131,
          138,
          139,
          139,
          154,
          156,
          205,
          231,
          203,
          159,
          137,
          138,
          151,
          90,
          100,
          54,
          20,
          7,
          22,
          33,
          58,
          93,
          92,
          140,
          165,
          169,
          156,
          185,
          174,
          174,
          234,
          241,
          199,
          163,
          161,
          130,
          131,
          120,
          104,
          75,
          45,
          15,
          12,
          18,
          46,
          59,
          95,
          113,
          151,
          160,
          138,
          162,
          156,
          165,
          160,
          194,
          150,
          139,
          118,
          94,
          43,
          29,
          17,
          13,
          5,
          14,
          34,
          47,
          101,
          115,
          114,
          81,
          136,
          124,
          130,
          130,
          150,
          162,
          174,
          181,
          171,
          129,
          109,
          77,
          38,
          36,
          19,
          16,
          8,
          17,
          49,
          66,
          105,
          125,
          105,
          122,
          140,
          133,
          164,
          184,
          180,
          194,
          245,
          219,
          183,
          145,
          137,
          113,
          54,
          21,
          11,
          3,
          6,
          15,
          36,
          51,
          119,
          127,
          118,
          116,
          115,
          146,
          142,
          147,
          145,
          175,
          212,
          250,
          211,
          177,
          137,
          128,
          97,
          45,
          43,
          35,
          16,
          19,
          35,
          66,
          101,
          128,
          125,
          129,
          161,
          144,
          142,
          213,
          160,
          175,
          227,
          222,
          212,
          149,
          122,
          122,
          85,
          70,
          52,
          34,
          20,
          12,
          35,
          63,
          97,
          112,
          98,
          132,
          147,
          147,
          147,
          167,
          169,
          168,
          238,
          232,
          202,
          149,
          150,
          142,
          130,
          106,
          81,
          90,
          33,
          9,
          14,
          37,
          49,
          67,
          108,
          160,
          174,
          202,
          182,
          168,
          186,
          215,
          239,
          231,
          172,
          167,
          145,
          153,
          164,
          112,
          73,
          62,
          36,
          7,
          17,
          25,
          34,
          64,
          88,
          119,
          149,
          148,
          180,
          146,
          165,
          170,
          188,
          198,
          155,
          119,
          97,
          76,
          62,
          21,
          11,
          8,
          8,
          9,
          31,
          40,
          83,
          112,
          126,
          117,
          139,
          116,
          147,
          153,
          142,
          154,
          216,
          227,
          153,
          121,
          129,
          109,
          55,
          25,
          17,
          8,
          5,
          13,
          30,
          52,
          104,
          130,
          125,
          123,
          137,
          156,
          170,
          159,
          174,
          237,
          292,
          233,
          187,
          154,
          133,
          158,
          85,
          37,
          17,
          7,
          8,
          9,
          31,
          60,
          96,
          80,
          83,
          96,
          114,
          94,
          114,
          126,
          102,
          112,
          164,
          171,
          145,
          119,
          105,
          78,
          100,
          62,
          32,
          9,
          14,
          10,
          42,
          65,
          107,
          111,
          126,
          140,
          147,
          142,
          165,
          160,
          177,
          200,
          242,
          215,
          183,
          160,
          151,
          139,
          125
         ],
         "yaxis": "y"
        },
        {
         "line": {
          "color": "green"
         },
         "marker": {
          "size": 10
         },
         "mode": "markers",
         "name": "actual value",
         "type": "scatter",
         "x": [
          "2022-08-12T00:00:00"
         ],
         "y": [
          125
         ]
        },
        {
         "line": {
          "color": "red"
         },
         "marker": {
          "size": 15,
          "symbol": "x"
         },
         "mode": "markers",
         "name": "prediction",
         "type": "scatter",
         "x": [
          "2022-08-12T00:00:00"
         ],
         "y": [
          116.27950624121613
         ]
        }
       ],
       "layout": {
        "legend": {
         "tracegroupgap": 0
        },
        "template": {
         "data": {
          "bar": [
           {
            "error_x": {
             "color": "#f2f5fa"
            },
            "error_y": {
             "color": "#f2f5fa"
            },
            "marker": {
             "line": {
              "color": "rgb(17,17,17)",
              "width": 0.5
             },
             "pattern": {
              "fillmode": "overlay",
              "size": 10,
              "solidity": 0.2
             }
            },
            "type": "bar"
           }
          ],
          "barpolar": [
           {
            "marker": {
             "line": {
              "color": "rgb(17,17,17)",
              "width": 0.5
             },
             "pattern": {
              "fillmode": "overlay",
              "size": 10,
              "solidity": 0.2
             }
            },
            "type": "barpolar"
           }
          ],
          "carpet": [
           {
            "aaxis": {
             "endlinecolor": "#A2B1C6",
             "gridcolor": "#506784",
             "linecolor": "#506784",
             "minorgridcolor": "#506784",
             "startlinecolor": "#A2B1C6"
            },
            "baxis": {
             "endlinecolor": "#A2B1C6",
             "gridcolor": "#506784",
             "linecolor": "#506784",
             "minorgridcolor": "#506784",
             "startlinecolor": "#A2B1C6"
            },
            "type": "carpet"
           }
          ],
          "choropleth": [
           {
            "colorbar": {
             "outlinewidth": 0,
             "ticks": ""
            },
            "type": "choropleth"
           }
          ],
          "contour": [
           {
            "colorbar": {
             "outlinewidth": 0,
             "ticks": ""
            },
            "colorscale": [
             [
              0,
              "#0d0887"
             ],
             [
              0.1111111111111111,
              "#46039f"
             ],
             [
              0.2222222222222222,
              "#7201a8"
             ],
             [
              0.3333333333333333,
              "#9c179e"
             ],
             [
              0.4444444444444444,
              "#bd3786"
             ],
             [
              0.5555555555555556,
              "#d8576b"
             ],
             [
              0.6666666666666666,
              "#ed7953"
             ],
             [
              0.7777777777777778,
              "#fb9f3a"
             ],
             [
              0.8888888888888888,
              "#fdca26"
             ],
             [
              1,
              "#f0f921"
             ]
            ],
            "type": "contour"
           }
          ],
          "contourcarpet": [
           {
            "colorbar": {
             "outlinewidth": 0,
             "ticks": ""
            },
            "type": "contourcarpet"
           }
          ],
          "heatmap": [
           {
            "colorbar": {
             "outlinewidth": 0,
             "ticks": ""
            },
            "colorscale": [
             [
              0,
              "#0d0887"
             ],
             [
              0.1111111111111111,
              "#46039f"
             ],
             [
              0.2222222222222222,
              "#7201a8"
             ],
             [
              0.3333333333333333,
              "#9c179e"
             ],
             [
              0.4444444444444444,
              "#bd3786"
             ],
             [
              0.5555555555555556,
              "#d8576b"
             ],
             [
              0.6666666666666666,
              "#ed7953"
             ],
             [
              0.7777777777777778,
              "#fb9f3a"
             ],
             [
              0.8888888888888888,
              "#fdca26"
             ],
             [
              1,
              "#f0f921"
             ]
            ],
            "type": "heatmap"
           }
          ],
          "heatmapgl": [
           {
            "colorbar": {
             "outlinewidth": 0,
             "ticks": ""
            },
            "colorscale": [
             [
              0,
              "#0d0887"
             ],
             [
              0.1111111111111111,
              "#46039f"
             ],
             [
              0.2222222222222222,
              "#7201a8"
             ],
             [
              0.3333333333333333,
              "#9c179e"
             ],
             [
              0.4444444444444444,
              "#bd3786"
             ],
             [
              0.5555555555555556,
              "#d8576b"
             ],
             [
              0.6666666666666666,
              "#ed7953"
             ],
             [
              0.7777777777777778,
              "#fb9f3a"
             ],
             [
              0.8888888888888888,
              "#fdca26"
             ],
             [
              1,
              "#f0f921"
             ]
            ],
            "type": "heatmapgl"
           }
          ],
          "histogram": [
           {
            "marker": {
             "pattern": {
              "fillmode": "overlay",
              "size": 10,
              "solidity": 0.2
             }
            },
            "type": "histogram"
           }
          ],
          "histogram2d": [
           {
            "colorbar": {
             "outlinewidth": 0,
             "ticks": ""
            },
            "colorscale": [
             [
              0,
              "#0d0887"
             ],
             [
              0.1111111111111111,
              "#46039f"
             ],
             [
              0.2222222222222222,
              "#7201a8"
             ],
             [
              0.3333333333333333,
              "#9c179e"
             ],
             [
              0.4444444444444444,
              "#bd3786"
             ],
             [
              0.5555555555555556,
              "#d8576b"
             ],
             [
              0.6666666666666666,
              "#ed7953"
             ],
             [
              0.7777777777777778,
              "#fb9f3a"
             ],
             [
              0.8888888888888888,
              "#fdca26"
             ],
             [
              1,
              "#f0f921"
             ]
            ],
            "type": "histogram2d"
           }
          ],
          "histogram2dcontour": [
           {
            "colorbar": {
             "outlinewidth": 0,
             "ticks": ""
            },
            "colorscale": [
             [
              0,
              "#0d0887"
             ],
             [
              0.1111111111111111,
              "#46039f"
             ],
             [
              0.2222222222222222,
              "#7201a8"
             ],
             [
              0.3333333333333333,
              "#9c179e"
             ],
             [
              0.4444444444444444,
              "#bd3786"
             ],
             [
              0.5555555555555556,
              "#d8576b"
             ],
             [
              0.6666666666666666,
              "#ed7953"
             ],
             [
              0.7777777777777778,
              "#fb9f3a"
             ],
             [
              0.8888888888888888,
              "#fdca26"
             ],
             [
              1,
              "#f0f921"
             ]
            ],
            "type": "histogram2dcontour"
           }
          ],
          "mesh3d": [
           {
            "colorbar": {
             "outlinewidth": 0,
             "ticks": ""
            },
            "type": "mesh3d"
           }
          ],
          "parcoords": [
           {
            "line": {
             "colorbar": {
              "outlinewidth": 0,
              "ticks": ""
             }
            },
            "type": "parcoords"
           }
          ],
          "pie": [
           {
            "automargin": true,
            "type": "pie"
           }
          ],
          "scatter": [
           {
            "marker": {
             "line": {
              "color": "#283442"
             }
            },
            "type": "scatter"
           }
          ],
          "scatter3d": [
           {
            "line": {
             "colorbar": {
              "outlinewidth": 0,
              "ticks": ""
             }
            },
            "marker": {
             "colorbar": {
              "outlinewidth": 0,
              "ticks": ""
             }
            },
            "type": "scatter3d"
           }
          ],
          "scattercarpet": [
           {
            "marker": {
             "colorbar": {
              "outlinewidth": 0,
              "ticks": ""
             }
            },
            "type": "scattercarpet"
           }
          ],
          "scattergeo": [
           {
            "marker": {
             "colorbar": {
              "outlinewidth": 0,
              "ticks": ""
             }
            },
            "type": "scattergeo"
           }
          ],
          "scattergl": [
           {
            "marker": {
             "line": {
              "color": "#283442"
             }
            },
            "type": "scattergl"
           }
          ],
          "scattermapbox": [
           {
            "marker": {
             "colorbar": {
              "outlinewidth": 0,
              "ticks": ""
             }
            },
            "type": "scattermapbox"
           }
          ],
          "scatterpolar": [
           {
            "marker": {
             "colorbar": {
              "outlinewidth": 0,
              "ticks": ""
             }
            },
            "type": "scatterpolar"
           }
          ],
          "scatterpolargl": [
           {
            "marker": {
             "colorbar": {
              "outlinewidth": 0,
              "ticks": ""
             }
            },
            "type": "scatterpolargl"
           }
          ],
          "scatterternary": [
           {
            "marker": {
             "colorbar": {
              "outlinewidth": 0,
              "ticks": ""
             }
            },
            "type": "scatterternary"
           }
          ],
          "surface": [
           {
            "colorbar": {
             "outlinewidth": 0,
             "ticks": ""
            },
            "colorscale": [
             [
              0,
              "#0d0887"
             ],
             [
              0.1111111111111111,
              "#46039f"
             ],
             [
              0.2222222222222222,
              "#7201a8"
             ],
             [
              0.3333333333333333,
              "#9c179e"
             ],
             [
              0.4444444444444444,
              "#bd3786"
             ],
             [
              0.5555555555555556,
              "#d8576b"
             ],
             [
              0.6666666666666666,
              "#ed7953"
             ],
             [
              0.7777777777777778,
              "#fb9f3a"
             ],
             [
              0.8888888888888888,
              "#fdca26"
             ],
             [
              1,
              "#f0f921"
             ]
            ],
            "type": "surface"
           }
          ],
          "table": [
           {
            "cells": {
             "fill": {
              "color": "#506784"
             },
             "line": {
              "color": "rgb(17,17,17)"
             }
            },
            "header": {
             "fill": {
              "color": "#2a3f5f"
             },
             "line": {
              "color": "rgb(17,17,17)"
             }
            },
            "type": "table"
           }
          ]
         },
         "layout": {
          "annotationdefaults": {
           "arrowcolor": "#f2f5fa",
           "arrowhead": 0,
           "arrowwidth": 1
          },
          "autotypenumbers": "strict",
          "coloraxis": {
           "colorbar": {
            "outlinewidth": 0,
            "ticks": ""
           }
          },
          "colorscale": {
           "diverging": [
            [
             0,
             "#8e0152"
            ],
            [
             0.1,
             "#c51b7d"
            ],
            [
             0.2,
             "#de77ae"
            ],
            [
             0.3,
             "#f1b6da"
            ],
            [
             0.4,
             "#fde0ef"
            ],
            [
             0.5,
             "#f7f7f7"
            ],
            [
             0.6,
             "#e6f5d0"
            ],
            [
             0.7,
             "#b8e186"
            ],
            [
             0.8,
             "#7fbc41"
            ],
            [
             0.9,
             "#4d9221"
            ],
            [
             1,
             "#276419"
            ]
           ],
           "sequential": [
            [
             0,
             "#0d0887"
            ],
            [
             0.1111111111111111,
             "#46039f"
            ],
            [
             0.2222222222222222,
             "#7201a8"
            ],
            [
             0.3333333333333333,
             "#9c179e"
            ],
            [
             0.4444444444444444,
             "#bd3786"
            ],
            [
             0.5555555555555556,
             "#d8576b"
            ],
            [
             0.6666666666666666,
             "#ed7953"
            ],
            [
             0.7777777777777778,
             "#fb9f3a"
            ],
            [
             0.8888888888888888,
             "#fdca26"
            ],
            [
             1,
             "#f0f921"
            ]
           ],
           "sequentialminus": [
            [
             0,
             "#0d0887"
            ],
            [
             0.1111111111111111,
             "#46039f"
            ],
            [
             0.2222222222222222,
             "#7201a8"
            ],
            [
             0.3333333333333333,
             "#9c179e"
            ],
            [
             0.4444444444444444,
             "#bd3786"
            ],
            [
             0.5555555555555556,
             "#d8576b"
            ],
            [
             0.6666666666666666,
             "#ed7953"
            ],
            [
             0.7777777777777778,
             "#fb9f3a"
            ],
            [
             0.8888888888888888,
             "#fdca26"
            ],
            [
             1,
             "#f0f921"
            ]
           ]
          },
          "colorway": [
           "#636efa",
           "#EF553B",
           "#00cc96",
           "#ab63fa",
           "#FFA15A",
           "#19d3f3",
           "#FF6692",
           "#B6E880",
           "#FF97FF",
           "#FECB52"
          ],
          "font": {
           "color": "#f2f5fa"
          },
          "geo": {
           "bgcolor": "rgb(17,17,17)",
           "lakecolor": "rgb(17,17,17)",
           "landcolor": "rgb(17,17,17)",
           "showlakes": true,
           "showland": true,
           "subunitcolor": "#506784"
          },
          "hoverlabel": {
           "align": "left"
          },
          "hovermode": "closest",
          "mapbox": {
           "style": "dark"
          },
          "paper_bgcolor": "rgb(17,17,17)",
          "plot_bgcolor": "rgb(17,17,17)",
          "polar": {
           "angularaxis": {
            "gridcolor": "#506784",
            "linecolor": "#506784",
            "ticks": ""
           },
           "bgcolor": "rgb(17,17,17)",
           "radialaxis": {
            "gridcolor": "#506784",
            "linecolor": "#506784",
            "ticks": ""
           }
          },
          "scene": {
           "xaxis": {
            "backgroundcolor": "rgb(17,17,17)",
            "gridcolor": "#506784",
            "gridwidth": 2,
            "linecolor": "#506784",
            "showbackground": true,
            "ticks": "",
            "zerolinecolor": "#C8D4E3"
           },
           "yaxis": {
            "backgroundcolor": "rgb(17,17,17)",
            "gridcolor": "#506784",
            "gridwidth": 2,
            "linecolor": "#506784",
            "showbackground": true,
            "ticks": "",
            "zerolinecolor": "#C8D4E3"
           },
           "zaxis": {
            "backgroundcolor": "rgb(17,17,17)",
            "gridcolor": "#506784",
            "gridwidth": 2,
            "linecolor": "#506784",
            "showbackground": true,
            "ticks": "",
            "zerolinecolor": "#C8D4E3"
           }
          },
          "shapedefaults": {
           "line": {
            "color": "#f2f5fa"
           }
          },
          "sliderdefaults": {
           "bgcolor": "#C8D4E3",
           "bordercolor": "rgb(17,17,17)",
           "borderwidth": 1,
           "tickwidth": 0
          },
          "ternary": {
           "aaxis": {
            "gridcolor": "#506784",
            "linecolor": "#506784",
            "ticks": ""
           },
           "baxis": {
            "gridcolor": "#506784",
            "linecolor": "#506784",
            "ticks": ""
           },
           "bgcolor": "rgb(17,17,17)",
           "caxis": {
            "gridcolor": "#506784",
            "linecolor": "#506784",
            "ticks": ""
           }
          },
          "title": {
           "x": 0.05
          },
          "updatemenudefaults": {
           "bgcolor": "#506784",
           "borderwidth": 0
          },
          "xaxis": {
           "automargin": true,
           "gridcolor": "#283442",
           "linecolor": "#506784",
           "ticks": "",
           "title": {
            "standoff": 15
           },
           "zerolinecolor": "#283442",
           "zerolinewidth": 2
          },
          "yaxis": {
           "automargin": true,
           "gridcolor": "#283442",
           "linecolor": "#506784",
           "ticks": "",
           "title": {
            "standoff": 15
           },
           "zerolinecolor": "#283442",
           "zerolinewidth": 2
          }
         }
        },
        "title": {
         "text": "Pick up hour=2022-08-12 00:00:00, location_id=68"
        },
        "xaxis": {
         "anchor": "y",
         "domain": [
          0,
          1
         ],
         "title": {
          "text": "x"
         }
        },
        "yaxis": {
         "anchor": "x",
         "domain": [
          0,
          1
         ],
         "title": {
          "text": "y"
         }
        }
       }
      }
     },
     "metadata": {},
     "output_type": "display_data"
    }
   ],
   "source": [
    "from src.plot import plot_one_sample\n",
    "\n",
    "plot_one_sample(\n",
    "    example_id=2979,\n",
    "    features=X_test,\n",
    "    targets=y_test,\n",
    "    predictions=pd.Series(predictions)\n",
    ")"
   ]
  },
  {
   "cell_type": "code",
   "execution_count": 12,
   "metadata": {},
   "outputs": [
    {
     "data": {
      "application/vnd.plotly.v1+json": {
       "config": {
        "plotlyServerURL": "https://plot.ly"
       },
       "data": [
        {
         "hovertemplate": "x=%{x}<br>y=%{y}<extra></extra>",
         "legendgroup": "",
         "line": {
          "color": "#636efa",
          "dash": "solid"
         },
         "marker": {
          "symbol": "circle"
         },
         "mode": "markers+lines",
         "name": "",
         "orientation": "v",
         "showlegend": false,
         "type": "scatter",
         "x": [
          "2022-05-05T00:00:00",
          "2022-05-05T01:00:00",
          "2022-05-05T02:00:00",
          "2022-05-05T03:00:00",
          "2022-05-05T04:00:00",
          "2022-05-05T05:00:00",
          "2022-05-05T06:00:00",
          "2022-05-05T07:00:00",
          "2022-05-05T08:00:00",
          "2022-05-05T09:00:00",
          "2022-05-05T10:00:00",
          "2022-05-05T11:00:00",
          "2022-05-05T12:00:00",
          "2022-05-05T13:00:00",
          "2022-05-05T14:00:00",
          "2022-05-05T15:00:00",
          "2022-05-05T16:00:00",
          "2022-05-05T17:00:00",
          "2022-05-05T18:00:00",
          "2022-05-05T19:00:00",
          "2022-05-05T20:00:00",
          "2022-05-05T21:00:00",
          "2022-05-05T22:00:00",
          "2022-05-05T23:00:00",
          "2022-05-06T00:00:00",
          "2022-05-06T01:00:00",
          "2022-05-06T02:00:00",
          "2022-05-06T03:00:00",
          "2022-05-06T04:00:00",
          "2022-05-06T05:00:00",
          "2022-05-06T06:00:00",
          "2022-05-06T07:00:00",
          "2022-05-06T08:00:00",
          "2022-05-06T09:00:00",
          "2022-05-06T10:00:00",
          "2022-05-06T11:00:00",
          "2022-05-06T12:00:00",
          "2022-05-06T13:00:00",
          "2022-05-06T14:00:00",
          "2022-05-06T15:00:00",
          "2022-05-06T16:00:00",
          "2022-05-06T17:00:00",
          "2022-05-06T18:00:00",
          "2022-05-06T19:00:00",
          "2022-05-06T20:00:00",
          "2022-05-06T21:00:00",
          "2022-05-06T22:00:00",
          "2022-05-06T23:00:00",
          "2022-05-07T00:00:00",
          "2022-05-07T01:00:00",
          "2022-05-07T02:00:00",
          "2022-05-07T03:00:00",
          "2022-05-07T04:00:00",
          "2022-05-07T05:00:00",
          "2022-05-07T06:00:00",
          "2022-05-07T07:00:00",
          "2022-05-07T08:00:00",
          "2022-05-07T09:00:00",
          "2022-05-07T10:00:00",
          "2022-05-07T11:00:00",
          "2022-05-07T12:00:00",
          "2022-05-07T13:00:00",
          "2022-05-07T14:00:00",
          "2022-05-07T15:00:00",
          "2022-05-07T16:00:00",
          "2022-05-07T17:00:00",
          "2022-05-07T18:00:00",
          "2022-05-07T19:00:00",
          "2022-05-07T20:00:00",
          "2022-05-07T21:00:00",
          "2022-05-07T22:00:00",
          "2022-05-07T23:00:00",
          "2022-05-08T00:00:00",
          "2022-05-08T01:00:00",
          "2022-05-08T02:00:00",
          "2022-05-08T03:00:00",
          "2022-05-08T04:00:00",
          "2022-05-08T05:00:00",
          "2022-05-08T06:00:00",
          "2022-05-08T07:00:00",
          "2022-05-08T08:00:00",
          "2022-05-08T09:00:00",
          "2022-05-08T10:00:00",
          "2022-05-08T11:00:00",
          "2022-05-08T12:00:00",
          "2022-05-08T13:00:00",
          "2022-05-08T14:00:00",
          "2022-05-08T15:00:00",
          "2022-05-08T16:00:00",
          "2022-05-08T17:00:00",
          "2022-05-08T18:00:00",
          "2022-05-08T19:00:00",
          "2022-05-08T20:00:00",
          "2022-05-08T21:00:00",
          "2022-05-08T22:00:00",
          "2022-05-08T23:00:00",
          "2022-05-09T00:00:00",
          "2022-05-09T01:00:00",
          "2022-05-09T02:00:00",
          "2022-05-09T03:00:00",
          "2022-05-09T04:00:00",
          "2022-05-09T05:00:00",
          "2022-05-09T06:00:00",
          "2022-05-09T07:00:00",
          "2022-05-09T08:00:00",
          "2022-05-09T09:00:00",
          "2022-05-09T10:00:00",
          "2022-05-09T11:00:00",
          "2022-05-09T12:00:00",
          "2022-05-09T13:00:00",
          "2022-05-09T14:00:00",
          "2022-05-09T15:00:00",
          "2022-05-09T16:00:00",
          "2022-05-09T17:00:00",
          "2022-05-09T18:00:00",
          "2022-05-09T19:00:00",
          "2022-05-09T20:00:00",
          "2022-05-09T21:00:00",
          "2022-05-09T22:00:00",
          "2022-05-09T23:00:00",
          "2022-05-10T00:00:00",
          "2022-05-10T01:00:00",
          "2022-05-10T02:00:00",
          "2022-05-10T03:00:00",
          "2022-05-10T04:00:00",
          "2022-05-10T05:00:00",
          "2022-05-10T06:00:00",
          "2022-05-10T07:00:00",
          "2022-05-10T08:00:00",
          "2022-05-10T09:00:00",
          "2022-05-10T10:00:00",
          "2022-05-10T11:00:00",
          "2022-05-10T12:00:00",
          "2022-05-10T13:00:00",
          "2022-05-10T14:00:00",
          "2022-05-10T15:00:00",
          "2022-05-10T16:00:00",
          "2022-05-10T17:00:00",
          "2022-05-10T18:00:00",
          "2022-05-10T19:00:00",
          "2022-05-10T20:00:00",
          "2022-05-10T21:00:00",
          "2022-05-10T22:00:00",
          "2022-05-10T23:00:00",
          "2022-05-11T00:00:00",
          "2022-05-11T01:00:00",
          "2022-05-11T02:00:00",
          "2022-05-11T03:00:00",
          "2022-05-11T04:00:00",
          "2022-05-11T05:00:00",
          "2022-05-11T06:00:00",
          "2022-05-11T07:00:00",
          "2022-05-11T08:00:00",
          "2022-05-11T09:00:00",
          "2022-05-11T10:00:00",
          "2022-05-11T11:00:00",
          "2022-05-11T12:00:00",
          "2022-05-11T13:00:00",
          "2022-05-11T14:00:00",
          "2022-05-11T15:00:00",
          "2022-05-11T16:00:00",
          "2022-05-11T17:00:00",
          "2022-05-11T18:00:00",
          "2022-05-11T19:00:00",
          "2022-05-11T20:00:00",
          "2022-05-11T21:00:00",
          "2022-05-11T22:00:00",
          "2022-05-11T23:00:00",
          "2022-05-12T00:00:00",
          "2022-05-12T01:00:00",
          "2022-05-12T02:00:00",
          "2022-05-12T03:00:00",
          "2022-05-12T04:00:00",
          "2022-05-12T05:00:00",
          "2022-05-12T06:00:00",
          "2022-05-12T07:00:00",
          "2022-05-12T08:00:00",
          "2022-05-12T09:00:00",
          "2022-05-12T10:00:00",
          "2022-05-12T11:00:00",
          "2022-05-12T12:00:00",
          "2022-05-12T13:00:00",
          "2022-05-12T14:00:00",
          "2022-05-12T15:00:00",
          "2022-05-12T16:00:00",
          "2022-05-12T17:00:00",
          "2022-05-12T18:00:00",
          "2022-05-12T19:00:00",
          "2022-05-12T20:00:00",
          "2022-05-12T21:00:00",
          "2022-05-12T22:00:00",
          "2022-05-12T23:00:00",
          "2022-05-13T00:00:00",
          "2022-05-13T01:00:00",
          "2022-05-13T02:00:00",
          "2022-05-13T03:00:00",
          "2022-05-13T04:00:00",
          "2022-05-13T05:00:00",
          "2022-05-13T06:00:00",
          "2022-05-13T07:00:00",
          "2022-05-13T08:00:00",
          "2022-05-13T09:00:00",
          "2022-05-13T10:00:00",
          "2022-05-13T11:00:00",
          "2022-05-13T12:00:00",
          "2022-05-13T13:00:00",
          "2022-05-13T14:00:00",
          "2022-05-13T15:00:00",
          "2022-05-13T16:00:00",
          "2022-05-13T17:00:00",
          "2022-05-13T18:00:00",
          "2022-05-13T19:00:00",
          "2022-05-13T20:00:00",
          "2022-05-13T21:00:00",
          "2022-05-13T22:00:00",
          "2022-05-13T23:00:00",
          "2022-05-14T00:00:00",
          "2022-05-14T01:00:00",
          "2022-05-14T02:00:00",
          "2022-05-14T03:00:00",
          "2022-05-14T04:00:00",
          "2022-05-14T05:00:00",
          "2022-05-14T06:00:00",
          "2022-05-14T07:00:00",
          "2022-05-14T08:00:00",
          "2022-05-14T09:00:00",
          "2022-05-14T10:00:00",
          "2022-05-14T11:00:00",
          "2022-05-14T12:00:00",
          "2022-05-14T13:00:00",
          "2022-05-14T14:00:00",
          "2022-05-14T15:00:00",
          "2022-05-14T16:00:00",
          "2022-05-14T17:00:00",
          "2022-05-14T18:00:00",
          "2022-05-14T19:00:00",
          "2022-05-14T20:00:00",
          "2022-05-14T21:00:00",
          "2022-05-14T22:00:00",
          "2022-05-14T23:00:00",
          "2022-05-15T00:00:00",
          "2022-05-15T01:00:00",
          "2022-05-15T02:00:00",
          "2022-05-15T03:00:00",
          "2022-05-15T04:00:00",
          "2022-05-15T05:00:00",
          "2022-05-15T06:00:00",
          "2022-05-15T07:00:00",
          "2022-05-15T08:00:00",
          "2022-05-15T09:00:00",
          "2022-05-15T10:00:00",
          "2022-05-15T11:00:00",
          "2022-05-15T12:00:00",
          "2022-05-15T13:00:00",
          "2022-05-15T14:00:00",
          "2022-05-15T15:00:00",
          "2022-05-15T16:00:00",
          "2022-05-15T17:00:00",
          "2022-05-15T18:00:00",
          "2022-05-15T19:00:00",
          "2022-05-15T20:00:00",
          "2022-05-15T21:00:00",
          "2022-05-15T22:00:00",
          "2022-05-15T23:00:00",
          "2022-05-16T00:00:00",
          "2022-05-16T01:00:00",
          "2022-05-16T02:00:00",
          "2022-05-16T03:00:00",
          "2022-05-16T04:00:00",
          "2022-05-16T05:00:00",
          "2022-05-16T06:00:00",
          "2022-05-16T07:00:00",
          "2022-05-16T08:00:00",
          "2022-05-16T09:00:00",
          "2022-05-16T10:00:00",
          "2022-05-16T11:00:00",
          "2022-05-16T12:00:00",
          "2022-05-16T13:00:00",
          "2022-05-16T14:00:00",
          "2022-05-16T15:00:00",
          "2022-05-16T16:00:00",
          "2022-05-16T17:00:00",
          "2022-05-16T18:00:00",
          "2022-05-16T19:00:00",
          "2022-05-16T20:00:00",
          "2022-05-16T21:00:00",
          "2022-05-16T22:00:00",
          "2022-05-16T23:00:00",
          "2022-05-17T00:00:00",
          "2022-05-17T01:00:00",
          "2022-05-17T02:00:00",
          "2022-05-17T03:00:00",
          "2022-05-17T04:00:00",
          "2022-05-17T05:00:00",
          "2022-05-17T06:00:00",
          "2022-05-17T07:00:00",
          "2022-05-17T08:00:00",
          "2022-05-17T09:00:00",
          "2022-05-17T10:00:00",
          "2022-05-17T11:00:00",
          "2022-05-17T12:00:00",
          "2022-05-17T13:00:00",
          "2022-05-17T14:00:00",
          "2022-05-17T15:00:00",
          "2022-05-17T16:00:00",
          "2022-05-17T17:00:00",
          "2022-05-17T18:00:00",
          "2022-05-17T19:00:00",
          "2022-05-17T20:00:00",
          "2022-05-17T21:00:00",
          "2022-05-17T22:00:00",
          "2022-05-17T23:00:00",
          "2022-05-18T00:00:00",
          "2022-05-18T01:00:00",
          "2022-05-18T02:00:00",
          "2022-05-18T03:00:00",
          "2022-05-18T04:00:00",
          "2022-05-18T05:00:00",
          "2022-05-18T06:00:00",
          "2022-05-18T07:00:00",
          "2022-05-18T08:00:00",
          "2022-05-18T09:00:00",
          "2022-05-18T10:00:00",
          "2022-05-18T11:00:00",
          "2022-05-18T12:00:00",
          "2022-05-18T13:00:00",
          "2022-05-18T14:00:00",
          "2022-05-18T15:00:00",
          "2022-05-18T16:00:00",
          "2022-05-18T17:00:00",
          "2022-05-18T18:00:00",
          "2022-05-18T19:00:00",
          "2022-05-18T20:00:00",
          "2022-05-18T21:00:00",
          "2022-05-18T22:00:00",
          "2022-05-18T23:00:00",
          "2022-05-19T00:00:00",
          "2022-05-19T01:00:00",
          "2022-05-19T02:00:00",
          "2022-05-19T03:00:00",
          "2022-05-19T04:00:00",
          "2022-05-19T05:00:00",
          "2022-05-19T06:00:00",
          "2022-05-19T07:00:00",
          "2022-05-19T08:00:00",
          "2022-05-19T09:00:00",
          "2022-05-19T10:00:00",
          "2022-05-19T11:00:00",
          "2022-05-19T12:00:00",
          "2022-05-19T13:00:00",
          "2022-05-19T14:00:00",
          "2022-05-19T15:00:00",
          "2022-05-19T16:00:00",
          "2022-05-19T17:00:00",
          "2022-05-19T18:00:00",
          "2022-05-19T19:00:00",
          "2022-05-19T20:00:00",
          "2022-05-19T21:00:00",
          "2022-05-19T22:00:00",
          "2022-05-19T23:00:00",
          "2022-05-20T00:00:00",
          "2022-05-20T01:00:00",
          "2022-05-20T02:00:00",
          "2022-05-20T03:00:00",
          "2022-05-20T04:00:00",
          "2022-05-20T05:00:00",
          "2022-05-20T06:00:00",
          "2022-05-20T07:00:00",
          "2022-05-20T08:00:00",
          "2022-05-20T09:00:00",
          "2022-05-20T10:00:00",
          "2022-05-20T11:00:00",
          "2022-05-20T12:00:00",
          "2022-05-20T13:00:00",
          "2022-05-20T14:00:00",
          "2022-05-20T15:00:00",
          "2022-05-20T16:00:00",
          "2022-05-20T17:00:00",
          "2022-05-20T18:00:00",
          "2022-05-20T19:00:00",
          "2022-05-20T20:00:00",
          "2022-05-20T21:00:00",
          "2022-05-20T22:00:00",
          "2022-05-20T23:00:00",
          "2022-05-21T00:00:00",
          "2022-05-21T01:00:00",
          "2022-05-21T02:00:00",
          "2022-05-21T03:00:00",
          "2022-05-21T04:00:00",
          "2022-05-21T05:00:00",
          "2022-05-21T06:00:00",
          "2022-05-21T07:00:00",
          "2022-05-21T08:00:00",
          "2022-05-21T09:00:00",
          "2022-05-21T10:00:00",
          "2022-05-21T11:00:00",
          "2022-05-21T12:00:00",
          "2022-05-21T13:00:00",
          "2022-05-21T14:00:00",
          "2022-05-21T15:00:00",
          "2022-05-21T16:00:00",
          "2022-05-21T17:00:00",
          "2022-05-21T18:00:00",
          "2022-05-21T19:00:00",
          "2022-05-21T20:00:00",
          "2022-05-21T21:00:00",
          "2022-05-21T22:00:00",
          "2022-05-21T23:00:00",
          "2022-05-22T00:00:00",
          "2022-05-22T01:00:00",
          "2022-05-22T02:00:00",
          "2022-05-22T03:00:00",
          "2022-05-22T04:00:00",
          "2022-05-22T05:00:00",
          "2022-05-22T06:00:00",
          "2022-05-22T07:00:00",
          "2022-05-22T08:00:00",
          "2022-05-22T09:00:00",
          "2022-05-22T10:00:00",
          "2022-05-22T11:00:00",
          "2022-05-22T12:00:00",
          "2022-05-22T13:00:00",
          "2022-05-22T14:00:00",
          "2022-05-22T15:00:00",
          "2022-05-22T16:00:00",
          "2022-05-22T17:00:00",
          "2022-05-22T18:00:00",
          "2022-05-22T19:00:00",
          "2022-05-22T20:00:00",
          "2022-05-22T21:00:00",
          "2022-05-22T22:00:00",
          "2022-05-22T23:00:00",
          "2022-05-23T00:00:00",
          "2022-05-23T01:00:00",
          "2022-05-23T02:00:00",
          "2022-05-23T03:00:00",
          "2022-05-23T04:00:00",
          "2022-05-23T05:00:00",
          "2022-05-23T06:00:00",
          "2022-05-23T07:00:00",
          "2022-05-23T08:00:00",
          "2022-05-23T09:00:00",
          "2022-05-23T10:00:00",
          "2022-05-23T11:00:00",
          "2022-05-23T12:00:00",
          "2022-05-23T13:00:00",
          "2022-05-23T14:00:00",
          "2022-05-23T15:00:00",
          "2022-05-23T16:00:00",
          "2022-05-23T17:00:00",
          "2022-05-23T18:00:00",
          "2022-05-23T19:00:00",
          "2022-05-23T20:00:00",
          "2022-05-23T21:00:00",
          "2022-05-23T22:00:00",
          "2022-05-23T23:00:00",
          "2022-05-24T00:00:00",
          "2022-05-24T01:00:00",
          "2022-05-24T02:00:00",
          "2022-05-24T03:00:00",
          "2022-05-24T04:00:00",
          "2022-05-24T05:00:00",
          "2022-05-24T06:00:00",
          "2022-05-24T07:00:00",
          "2022-05-24T08:00:00",
          "2022-05-24T09:00:00",
          "2022-05-24T10:00:00",
          "2022-05-24T11:00:00",
          "2022-05-24T12:00:00",
          "2022-05-24T13:00:00",
          "2022-05-24T14:00:00",
          "2022-05-24T15:00:00",
          "2022-05-24T16:00:00",
          "2022-05-24T17:00:00",
          "2022-05-24T18:00:00",
          "2022-05-24T19:00:00",
          "2022-05-24T20:00:00",
          "2022-05-24T21:00:00",
          "2022-05-24T22:00:00",
          "2022-05-24T23:00:00",
          "2022-05-25T00:00:00",
          "2022-05-25T01:00:00",
          "2022-05-25T02:00:00",
          "2022-05-25T03:00:00",
          "2022-05-25T04:00:00",
          "2022-05-25T05:00:00",
          "2022-05-25T06:00:00",
          "2022-05-25T07:00:00",
          "2022-05-25T08:00:00",
          "2022-05-25T09:00:00",
          "2022-05-25T10:00:00",
          "2022-05-25T11:00:00",
          "2022-05-25T12:00:00",
          "2022-05-25T13:00:00",
          "2022-05-25T14:00:00",
          "2022-05-25T15:00:00",
          "2022-05-25T16:00:00",
          "2022-05-25T17:00:00",
          "2022-05-25T18:00:00",
          "2022-05-25T19:00:00",
          "2022-05-25T20:00:00",
          "2022-05-25T21:00:00",
          "2022-05-25T22:00:00",
          "2022-05-25T23:00:00",
          "2022-05-26T00:00:00",
          "2022-05-26T01:00:00",
          "2022-05-26T02:00:00",
          "2022-05-26T03:00:00",
          "2022-05-26T04:00:00",
          "2022-05-26T05:00:00",
          "2022-05-26T06:00:00",
          "2022-05-26T07:00:00",
          "2022-05-26T08:00:00",
          "2022-05-26T09:00:00",
          "2022-05-26T10:00:00",
          "2022-05-26T11:00:00",
          "2022-05-26T12:00:00",
          "2022-05-26T13:00:00",
          "2022-05-26T14:00:00",
          "2022-05-26T15:00:00",
          "2022-05-26T16:00:00",
          "2022-05-26T17:00:00",
          "2022-05-26T18:00:00",
          "2022-05-26T19:00:00",
          "2022-05-26T20:00:00",
          "2022-05-26T21:00:00",
          "2022-05-26T22:00:00",
          "2022-05-26T23:00:00",
          "2022-05-27T00:00:00",
          "2022-05-27T01:00:00",
          "2022-05-27T02:00:00",
          "2022-05-27T03:00:00",
          "2022-05-27T04:00:00",
          "2022-05-27T05:00:00",
          "2022-05-27T06:00:00",
          "2022-05-27T07:00:00",
          "2022-05-27T08:00:00",
          "2022-05-27T09:00:00",
          "2022-05-27T10:00:00",
          "2022-05-27T11:00:00",
          "2022-05-27T12:00:00",
          "2022-05-27T13:00:00",
          "2022-05-27T14:00:00",
          "2022-05-27T15:00:00",
          "2022-05-27T16:00:00",
          "2022-05-27T17:00:00",
          "2022-05-27T18:00:00",
          "2022-05-27T19:00:00",
          "2022-05-27T20:00:00",
          "2022-05-27T21:00:00",
          "2022-05-27T22:00:00",
          "2022-05-27T23:00:00",
          "2022-05-28T00:00:00",
          "2022-05-28T01:00:00",
          "2022-05-28T02:00:00",
          "2022-05-28T03:00:00",
          "2022-05-28T04:00:00",
          "2022-05-28T05:00:00",
          "2022-05-28T06:00:00",
          "2022-05-28T07:00:00",
          "2022-05-28T08:00:00",
          "2022-05-28T09:00:00",
          "2022-05-28T10:00:00",
          "2022-05-28T11:00:00",
          "2022-05-28T12:00:00",
          "2022-05-28T13:00:00",
          "2022-05-28T14:00:00",
          "2022-05-28T15:00:00",
          "2022-05-28T16:00:00",
          "2022-05-28T17:00:00",
          "2022-05-28T18:00:00",
          "2022-05-28T19:00:00",
          "2022-05-28T20:00:00",
          "2022-05-28T21:00:00",
          "2022-05-28T22:00:00",
          "2022-05-28T23:00:00",
          "2022-05-29T00:00:00",
          "2022-05-29T01:00:00",
          "2022-05-29T02:00:00",
          "2022-05-29T03:00:00",
          "2022-05-29T04:00:00",
          "2022-05-29T05:00:00",
          "2022-05-29T06:00:00",
          "2022-05-29T07:00:00",
          "2022-05-29T08:00:00",
          "2022-05-29T09:00:00",
          "2022-05-29T10:00:00",
          "2022-05-29T11:00:00",
          "2022-05-29T12:00:00",
          "2022-05-29T13:00:00",
          "2022-05-29T14:00:00",
          "2022-05-29T15:00:00",
          "2022-05-29T16:00:00",
          "2022-05-29T17:00:00",
          "2022-05-29T18:00:00",
          "2022-05-29T19:00:00",
          "2022-05-29T20:00:00",
          "2022-05-29T21:00:00",
          "2022-05-29T22:00:00",
          "2022-05-29T23:00:00",
          "2022-05-30T00:00:00",
          "2022-05-30T01:00:00",
          "2022-05-30T02:00:00",
          "2022-05-30T03:00:00",
          "2022-05-30T04:00:00",
          "2022-05-30T05:00:00",
          "2022-05-30T06:00:00",
          "2022-05-30T07:00:00",
          "2022-05-30T08:00:00",
          "2022-05-30T09:00:00",
          "2022-05-30T10:00:00",
          "2022-05-30T11:00:00",
          "2022-05-30T12:00:00",
          "2022-05-30T13:00:00",
          "2022-05-30T14:00:00",
          "2022-05-30T15:00:00",
          "2022-05-30T16:00:00",
          "2022-05-30T17:00:00",
          "2022-05-30T18:00:00",
          "2022-05-30T19:00:00",
          "2022-05-30T20:00:00",
          "2022-05-30T21:00:00",
          "2022-05-30T22:00:00",
          "2022-05-30T23:00:00",
          "2022-05-31T00:00:00",
          "2022-05-31T01:00:00",
          "2022-05-31T02:00:00",
          "2022-05-31T03:00:00",
          "2022-05-31T04:00:00",
          "2022-05-31T05:00:00",
          "2022-05-31T06:00:00",
          "2022-05-31T07:00:00",
          "2022-05-31T08:00:00",
          "2022-05-31T09:00:00",
          "2022-05-31T10:00:00",
          "2022-05-31T11:00:00",
          "2022-05-31T12:00:00",
          "2022-05-31T13:00:00",
          "2022-05-31T14:00:00",
          "2022-05-31T15:00:00",
          "2022-05-31T16:00:00",
          "2022-05-31T17:00:00",
          "2022-05-31T18:00:00",
          "2022-05-31T19:00:00",
          "2022-05-31T20:00:00",
          "2022-05-31T21:00:00",
          "2022-05-31T22:00:00",
          "2022-05-31T23:00:00",
          "2022-06-01T00:00:00",
          "2022-06-01T01:00:00",
          "2022-06-01T02:00:00",
          "2022-06-01T03:00:00",
          "2022-06-01T04:00:00",
          "2022-06-01T05:00:00",
          "2022-06-01T06:00:00",
          "2022-06-01T07:00:00",
          "2022-06-01T08:00:00",
          "2022-06-01T09:00:00",
          "2022-06-01T10:00:00",
          "2022-06-01T11:00:00",
          "2022-06-01T12:00:00",
          "2022-06-01T13:00:00",
          "2022-06-01T14:00:00",
          "2022-06-01T15:00:00",
          "2022-06-01T16:00:00",
          "2022-06-01T17:00:00",
          "2022-06-01T18:00:00",
          "2022-06-01T19:00:00",
          "2022-06-01T20:00:00",
          "2022-06-01T21:00:00",
          "2022-06-01T22:00:00",
          "2022-06-01T23:00:00",
          "2022-06-02T00:00:00"
         ],
         "xaxis": "x",
         "y": [
          8,
          0,
          0,
          1,
          1,
          3,
          7,
          7,
          19,
          17,
          21,
          19,
          25,
          32,
          28,
          33,
          31,
          35,
          48,
          46,
          42,
          52,
          35,
          24,
          20,
          2,
          3,
          2,
          0,
          1,
          3,
          7,
          13,
          14,
          9,
          13,
          21,
          19,
          23,
          21,
          21,
          19,
          25,
          21,
          23,
          8,
          12,
          11,
          11,
          5,
          3,
          1,
          1,
          2,
          2,
          0,
          6,
          14,
          10,
          10,
          15,
          17,
          13,
          12,
          12,
          27,
          19,
          18,
          16,
          11,
          12,
          7,
          9,
          13,
          8,
          1,
          0,
          1,
          3,
          4,
          6,
          2,
          9,
          22,
          9,
          19,
          29,
          23,
          9,
          11,
          19,
          14,
          5,
          9,
          7,
          1,
          1,
          0,
          2,
          0,
          1,
          1,
          4,
          5,
          12,
          13,
          13,
          15,
          16,
          16,
          13,
          27,
          19,
          33,
          30,
          21,
          15,
          20,
          9,
          7,
          1,
          1,
          1,
          2,
          0,
          1,
          5,
          4,
          18,
          8,
          9,
          17,
          19,
          18,
          25,
          28,
          33,
          28,
          35,
          22,
          25,
          30,
          11,
          9,
          6,
          0,
          0,
          0,
          1,
          0,
          3,
          5,
          9,
          10,
          17,
          16,
          17,
          15,
          24,
          28,
          24,
          28,
          37,
          30,
          33,
          21,
          28,
          13,
          9,
          2,
          1,
          1,
          2,
          0,
          6,
          2,
          13,
          12,
          13,
          15,
          22,
          19,
          31,
          23,
          32,
          48,
          31,
          33,
          24,
          38,
          24,
          23,
          11,
          9,
          5,
          0,
          1,
          0,
          3,
          7,
          11,
          14,
          18,
          14,
          18,
          25,
          18,
          33,
          32,
          27,
          33,
          24,
          19,
          12,
          11,
          25,
          24,
          13,
          9,
          4,
          0,
          2,
          0,
          2,
          8,
          8,
          11,
          10,
          21,
          21,
          15,
          22,
          23,
          21,
          28,
          20,
          17,
          10,
          13,
          13,
          16,
          9,
          8,
          7,
          3,
          1,
          4,
          2,
          6,
          3,
          8,
          13,
          21,
          16,
          25,
          24,
          24,
          18,
          19,
          14,
          9,
          7,
          15,
          4,
          2,
          3,
          0,
          0,
          0,
          1,
          2,
          1,
          12,
          10,
          7,
          17,
          16,
          20,
          16,
          23,
          31,
          33,
          32,
          12,
          13,
          18,
          9,
          12,
          1,
          1,
          2,
          0,
          0,
          1,
          3,
          5,
          13,
          10,
          15,
          14,
          25,
          25,
          32,
          26,
          20,
          40,
          26,
          22,
          18,
          30,
          30,
          20,
          10,
          4,
          0,
          0,
          0,
          1,
          5,
          9,
          24,
          13,
          16,
          22,
          14,
          23,
          28,
          31,
          29,
          33,
          33,
          29,
          19,
          23,
          26,
          13,
          8,
          5,
          2,
          0,
          0,
          0,
          6,
          8,
          16,
          12,
          20,
          21,
          21,
          23,
          24,
          23,
          18,
          28,
          22,
          26,
          27,
          40,
          23,
          21,
          19,
          12,
          2,
          2,
          4,
          4,
          1,
          14,
          14,
          9,
          16,
          23,
          24,
          23,
          19,
          26,
          15,
          19,
          28,
          20,
          17,
          8,
          10,
          15,
          19,
          6,
          7,
          5,
          2,
          1,
          5,
          2,
          8,
          11,
          16,
          33,
          22,
          27,
          28,
          24,
          39,
          20,
          35,
          22,
          18,
          21,
          18,
          21,
          13,
          17,
          5,
          4,
          3,
          0,
          1,
          5,
          11,
          3,
          14,
          18,
          21,
          13,
          19,
          14,
          21,
          15,
          15,
          10,
          12,
          12,
          2,
          5,
          1,
          0,
          1,
          0,
          0,
          2,
          3,
          5,
          10,
          8,
          11,
          10,
          19,
          21,
          19,
          21,
          27,
          30,
          23,
          17,
          15,
          14,
          15,
          3,
          1,
          0,
          0,
          0,
          0,
          0,
          5,
          9,
          13,
          9,
          15,
          22,
          18,
          20,
          28,
          34,
          25,
          22,
          32,
          22,
          20,
          18,
          15,
          13,
          3,
          1,
          0,
          0,
          0,
          0,
          6,
          4,
          5,
          12,
          12,
          18,
          16,
          24,
          20,
          22,
          38,
          36,
          26,
          34,
          22,
          24,
          21,
          22,
          4,
          3,
          3,
          0,
          0,
          3,
          5,
          7,
          7,
          9,
          14,
          13,
          22,
          22,
          20,
          29,
          23,
          40,
          25,
          31,
          28,
          16,
          18,
          23,
          7,
          5,
          5,
          1,
          2,
          1,
          5,
          3,
          10,
          13,
          9,
          20,
          18,
          25,
          29,
          23,
          19,
          18,
          12,
          19,
          10,
          10,
          6,
          10,
          11,
          3,
          2,
          0,
          2,
          1,
          1,
          5,
          6,
          11,
          8,
          12,
          16,
          24,
          23,
          29,
          37,
          30,
          25,
          20,
          15,
          10,
          16,
          11,
          15,
          1,
          3,
          3,
          3,
          3,
          2,
          1,
          7,
          7,
          8,
          21,
          25,
          34,
          27,
          30,
          22,
          24,
          34,
          22,
          15,
          12,
          10,
          16,
          4,
          4,
          0,
          2,
          0,
          0,
          1,
          4,
          5,
          3,
          9,
          15,
          22,
          29,
          27,
          23,
          22,
          22,
          19,
          20,
          13,
          5,
          3,
          3,
          0,
          1,
          1,
          0,
          0,
          3,
          4,
          7,
          4,
          14,
          14,
          16,
          28,
          35,
          24,
          30,
          17,
          31,
          20,
          22,
          17,
          12,
          9,
          11,
          5,
          1,
          1,
          0,
          0,
          0,
          2,
          4,
          13,
          6,
          6,
          20,
          21,
          23,
          30,
          23,
          22,
          40,
          36,
          19,
          20,
          11,
          12,
          7,
          6
         ],
         "yaxis": "y"
        },
        {
         "line": {
          "color": "green"
         },
         "marker": {
          "size": 10
         },
         "mode": "markers",
         "name": "actual value",
         "type": "scatter",
         "x": [
          "2022-06-02T00:00:00"
         ],
         "y": [
          6
         ]
        },
        {
         "line": {
          "color": "red"
         },
         "marker": {
          "size": 15,
          "symbol": "x"
         },
         "mode": "markers",
         "name": "prediction",
         "type": "scatter",
         "x": [
          "2022-06-02T00:00:00"
         ],
         "y": [
          4.473266587341525
         ]
        }
       ],
       "layout": {
        "legend": {
         "tracegroupgap": 0
        },
        "template": {
         "data": {
          "bar": [
           {
            "error_x": {
             "color": "#f2f5fa"
            },
            "error_y": {
             "color": "#f2f5fa"
            },
            "marker": {
             "line": {
              "color": "rgb(17,17,17)",
              "width": 0.5
             },
             "pattern": {
              "fillmode": "overlay",
              "size": 10,
              "solidity": 0.2
             }
            },
            "type": "bar"
           }
          ],
          "barpolar": [
           {
            "marker": {
             "line": {
              "color": "rgb(17,17,17)",
              "width": 0.5
             },
             "pattern": {
              "fillmode": "overlay",
              "size": 10,
              "solidity": 0.2
             }
            },
            "type": "barpolar"
           }
          ],
          "carpet": [
           {
            "aaxis": {
             "endlinecolor": "#A2B1C6",
             "gridcolor": "#506784",
             "linecolor": "#506784",
             "minorgridcolor": "#506784",
             "startlinecolor": "#A2B1C6"
            },
            "baxis": {
             "endlinecolor": "#A2B1C6",
             "gridcolor": "#506784",
             "linecolor": "#506784",
             "minorgridcolor": "#506784",
             "startlinecolor": "#A2B1C6"
            },
            "type": "carpet"
           }
          ],
          "choropleth": [
           {
            "colorbar": {
             "outlinewidth": 0,
             "ticks": ""
            },
            "type": "choropleth"
           }
          ],
          "contour": [
           {
            "colorbar": {
             "outlinewidth": 0,
             "ticks": ""
            },
            "colorscale": [
             [
              0,
              "#0d0887"
             ],
             [
              0.1111111111111111,
              "#46039f"
             ],
             [
              0.2222222222222222,
              "#7201a8"
             ],
             [
              0.3333333333333333,
              "#9c179e"
             ],
             [
              0.4444444444444444,
              "#bd3786"
             ],
             [
              0.5555555555555556,
              "#d8576b"
             ],
             [
              0.6666666666666666,
              "#ed7953"
             ],
             [
              0.7777777777777778,
              "#fb9f3a"
             ],
             [
              0.8888888888888888,
              "#fdca26"
             ],
             [
              1,
              "#f0f921"
             ]
            ],
            "type": "contour"
           }
          ],
          "contourcarpet": [
           {
            "colorbar": {
             "outlinewidth": 0,
             "ticks": ""
            },
            "type": "contourcarpet"
           }
          ],
          "heatmap": [
           {
            "colorbar": {
             "outlinewidth": 0,
             "ticks": ""
            },
            "colorscale": [
             [
              0,
              "#0d0887"
             ],
             [
              0.1111111111111111,
              "#46039f"
             ],
             [
              0.2222222222222222,
              "#7201a8"
             ],
             [
              0.3333333333333333,
              "#9c179e"
             ],
             [
              0.4444444444444444,
              "#bd3786"
             ],
             [
              0.5555555555555556,
              "#d8576b"
             ],
             [
              0.6666666666666666,
              "#ed7953"
             ],
             [
              0.7777777777777778,
              "#fb9f3a"
             ],
             [
              0.8888888888888888,
              "#fdca26"
             ],
             [
              1,
              "#f0f921"
             ]
            ],
            "type": "heatmap"
           }
          ],
          "heatmapgl": [
           {
            "colorbar": {
             "outlinewidth": 0,
             "ticks": ""
            },
            "colorscale": [
             [
              0,
              "#0d0887"
             ],
             [
              0.1111111111111111,
              "#46039f"
             ],
             [
              0.2222222222222222,
              "#7201a8"
             ],
             [
              0.3333333333333333,
              "#9c179e"
             ],
             [
              0.4444444444444444,
              "#bd3786"
             ],
             [
              0.5555555555555556,
              "#d8576b"
             ],
             [
              0.6666666666666666,
              "#ed7953"
             ],
             [
              0.7777777777777778,
              "#fb9f3a"
             ],
             [
              0.8888888888888888,
              "#fdca26"
             ],
             [
              1,
              "#f0f921"
             ]
            ],
            "type": "heatmapgl"
           }
          ],
          "histogram": [
           {
            "marker": {
             "pattern": {
              "fillmode": "overlay",
              "size": 10,
              "solidity": 0.2
             }
            },
            "type": "histogram"
           }
          ],
          "histogram2d": [
           {
            "colorbar": {
             "outlinewidth": 0,
             "ticks": ""
            },
            "colorscale": [
             [
              0,
              "#0d0887"
             ],
             [
              0.1111111111111111,
              "#46039f"
             ],
             [
              0.2222222222222222,
              "#7201a8"
             ],
             [
              0.3333333333333333,
              "#9c179e"
             ],
             [
              0.4444444444444444,
              "#bd3786"
             ],
             [
              0.5555555555555556,
              "#d8576b"
             ],
             [
              0.6666666666666666,
              "#ed7953"
             ],
             [
              0.7777777777777778,
              "#fb9f3a"
             ],
             [
              0.8888888888888888,
              "#fdca26"
             ],
             [
              1,
              "#f0f921"
             ]
            ],
            "type": "histogram2d"
           }
          ],
          "histogram2dcontour": [
           {
            "colorbar": {
             "outlinewidth": 0,
             "ticks": ""
            },
            "colorscale": [
             [
              0,
              "#0d0887"
             ],
             [
              0.1111111111111111,
              "#46039f"
             ],
             [
              0.2222222222222222,
              "#7201a8"
             ],
             [
              0.3333333333333333,
              "#9c179e"
             ],
             [
              0.4444444444444444,
              "#bd3786"
             ],
             [
              0.5555555555555556,
              "#d8576b"
             ],
             [
              0.6666666666666666,
              "#ed7953"
             ],
             [
              0.7777777777777778,
              "#fb9f3a"
             ],
             [
              0.8888888888888888,
              "#fdca26"
             ],
             [
              1,
              "#f0f921"
             ]
            ],
            "type": "histogram2dcontour"
           }
          ],
          "mesh3d": [
           {
            "colorbar": {
             "outlinewidth": 0,
             "ticks": ""
            },
            "type": "mesh3d"
           }
          ],
          "parcoords": [
           {
            "line": {
             "colorbar": {
              "outlinewidth": 0,
              "ticks": ""
             }
            },
            "type": "parcoords"
           }
          ],
          "pie": [
           {
            "automargin": true,
            "type": "pie"
           }
          ],
          "scatter": [
           {
            "marker": {
             "line": {
              "color": "#283442"
             }
            },
            "type": "scatter"
           }
          ],
          "scatter3d": [
           {
            "line": {
             "colorbar": {
              "outlinewidth": 0,
              "ticks": ""
             }
            },
            "marker": {
             "colorbar": {
              "outlinewidth": 0,
              "ticks": ""
             }
            },
            "type": "scatter3d"
           }
          ],
          "scattercarpet": [
           {
            "marker": {
             "colorbar": {
              "outlinewidth": 0,
              "ticks": ""
             }
            },
            "type": "scattercarpet"
           }
          ],
          "scattergeo": [
           {
            "marker": {
             "colorbar": {
              "outlinewidth": 0,
              "ticks": ""
             }
            },
            "type": "scattergeo"
           }
          ],
          "scattergl": [
           {
            "marker": {
             "line": {
              "color": "#283442"
             }
            },
            "type": "scattergl"
           }
          ],
          "scattermapbox": [
           {
            "marker": {
             "colorbar": {
              "outlinewidth": 0,
              "ticks": ""
             }
            },
            "type": "scattermapbox"
           }
          ],
          "scatterpolar": [
           {
            "marker": {
             "colorbar": {
              "outlinewidth": 0,
              "ticks": ""
             }
            },
            "type": "scatterpolar"
           }
          ],
          "scatterpolargl": [
           {
            "marker": {
             "colorbar": {
              "outlinewidth": 0,
              "ticks": ""
             }
            },
            "type": "scatterpolargl"
           }
          ],
          "scatterternary": [
           {
            "marker": {
             "colorbar": {
              "outlinewidth": 0,
              "ticks": ""
             }
            },
            "type": "scatterternary"
           }
          ],
          "surface": [
           {
            "colorbar": {
             "outlinewidth": 0,
             "ticks": ""
            },
            "colorscale": [
             [
              0,
              "#0d0887"
             ],
             [
              0.1111111111111111,
              "#46039f"
             ],
             [
              0.2222222222222222,
              "#7201a8"
             ],
             [
              0.3333333333333333,
              "#9c179e"
             ],
             [
              0.4444444444444444,
              "#bd3786"
             ],
             [
              0.5555555555555556,
              "#d8576b"
             ],
             [
              0.6666666666666666,
              "#ed7953"
             ],
             [
              0.7777777777777778,
              "#fb9f3a"
             ],
             [
              0.8888888888888888,
              "#fdca26"
             ],
             [
              1,
              "#f0f921"
             ]
            ],
            "type": "surface"
           }
          ],
          "table": [
           {
            "cells": {
             "fill": {
              "color": "#506784"
             },
             "line": {
              "color": "rgb(17,17,17)"
             }
            },
            "header": {
             "fill": {
              "color": "#2a3f5f"
             },
             "line": {
              "color": "rgb(17,17,17)"
             }
            },
            "type": "table"
           }
          ]
         },
         "layout": {
          "annotationdefaults": {
           "arrowcolor": "#f2f5fa",
           "arrowhead": 0,
           "arrowwidth": 1
          },
          "autotypenumbers": "strict",
          "coloraxis": {
           "colorbar": {
            "outlinewidth": 0,
            "ticks": ""
           }
          },
          "colorscale": {
           "diverging": [
            [
             0,
             "#8e0152"
            ],
            [
             0.1,
             "#c51b7d"
            ],
            [
             0.2,
             "#de77ae"
            ],
            [
             0.3,
             "#f1b6da"
            ],
            [
             0.4,
             "#fde0ef"
            ],
            [
             0.5,
             "#f7f7f7"
            ],
            [
             0.6,
             "#e6f5d0"
            ],
            [
             0.7,
             "#b8e186"
            ],
            [
             0.8,
             "#7fbc41"
            ],
            [
             0.9,
             "#4d9221"
            ],
            [
             1,
             "#276419"
            ]
           ],
           "sequential": [
            [
             0,
             "#0d0887"
            ],
            [
             0.1111111111111111,
             "#46039f"
            ],
            [
             0.2222222222222222,
             "#7201a8"
            ],
            [
             0.3333333333333333,
             "#9c179e"
            ],
            [
             0.4444444444444444,
             "#bd3786"
            ],
            [
             0.5555555555555556,
             "#d8576b"
            ],
            [
             0.6666666666666666,
             "#ed7953"
            ],
            [
             0.7777777777777778,
             "#fb9f3a"
            ],
            [
             0.8888888888888888,
             "#fdca26"
            ],
            [
             1,
             "#f0f921"
            ]
           ],
           "sequentialminus": [
            [
             0,
             "#0d0887"
            ],
            [
             0.1111111111111111,
             "#46039f"
            ],
            [
             0.2222222222222222,
             "#7201a8"
            ],
            [
             0.3333333333333333,
             "#9c179e"
            ],
            [
             0.4444444444444444,
             "#bd3786"
            ],
            [
             0.5555555555555556,
             "#d8576b"
            ],
            [
             0.6666666666666666,
             "#ed7953"
            ],
            [
             0.7777777777777778,
             "#fb9f3a"
            ],
            [
             0.8888888888888888,
             "#fdca26"
            ],
            [
             1,
             "#f0f921"
            ]
           ]
          },
          "colorway": [
           "#636efa",
           "#EF553B",
           "#00cc96",
           "#ab63fa",
           "#FFA15A",
           "#19d3f3",
           "#FF6692",
           "#B6E880",
           "#FF97FF",
           "#FECB52"
          ],
          "font": {
           "color": "#f2f5fa"
          },
          "geo": {
           "bgcolor": "rgb(17,17,17)",
           "lakecolor": "rgb(17,17,17)",
           "landcolor": "rgb(17,17,17)",
           "showlakes": true,
           "showland": true,
           "subunitcolor": "#506784"
          },
          "hoverlabel": {
           "align": "left"
          },
          "hovermode": "closest",
          "mapbox": {
           "style": "dark"
          },
          "paper_bgcolor": "rgb(17,17,17)",
          "plot_bgcolor": "rgb(17,17,17)",
          "polar": {
           "angularaxis": {
            "gridcolor": "#506784",
            "linecolor": "#506784",
            "ticks": ""
           },
           "bgcolor": "rgb(17,17,17)",
           "radialaxis": {
            "gridcolor": "#506784",
            "linecolor": "#506784",
            "ticks": ""
           }
          },
          "scene": {
           "xaxis": {
            "backgroundcolor": "rgb(17,17,17)",
            "gridcolor": "#506784",
            "gridwidth": 2,
            "linecolor": "#506784",
            "showbackground": true,
            "ticks": "",
            "zerolinecolor": "#C8D4E3"
           },
           "yaxis": {
            "backgroundcolor": "rgb(17,17,17)",
            "gridcolor": "#506784",
            "gridwidth": 2,
            "linecolor": "#506784",
            "showbackground": true,
            "ticks": "",
            "zerolinecolor": "#C8D4E3"
           },
           "zaxis": {
            "backgroundcolor": "rgb(17,17,17)",
            "gridcolor": "#506784",
            "gridwidth": 2,
            "linecolor": "#506784",
            "showbackground": true,
            "ticks": "",
            "zerolinecolor": "#C8D4E3"
           }
          },
          "shapedefaults": {
           "line": {
            "color": "#f2f5fa"
           }
          },
          "sliderdefaults": {
           "bgcolor": "#C8D4E3",
           "bordercolor": "rgb(17,17,17)",
           "borderwidth": 1,
           "tickwidth": 0
          },
          "ternary": {
           "aaxis": {
            "gridcolor": "#506784",
            "linecolor": "#506784",
            "ticks": ""
           },
           "baxis": {
            "gridcolor": "#506784",
            "linecolor": "#506784",
            "ticks": ""
           },
           "bgcolor": "rgb(17,17,17)",
           "caxis": {
            "gridcolor": "#506784",
            "linecolor": "#506784",
            "ticks": ""
           }
          },
          "title": {
           "x": 0.05
          },
          "updatemenudefaults": {
           "bgcolor": "#506784",
           "borderwidth": 0
          },
          "xaxis": {
           "automargin": true,
           "gridcolor": "#283442",
           "linecolor": "#506784",
           "ticks": "",
           "title": {
            "standoff": 15
           },
           "zerolinecolor": "#283442",
           "zerolinewidth": 2
          },
          "yaxis": {
           "automargin": true,
           "gridcolor": "#283442",
           "linecolor": "#506784",
           "ticks": "",
           "title": {
            "standoff": 15
           },
           "zerolinecolor": "#283442",
           "zerolinewidth": 2
          }
         }
        },
        "title": {
         "text": "Pick up hour=2022-06-02 00:00:00, location_id=88"
        },
        "xaxis": {
         "anchor": "y",
         "domain": [
          0,
          1
         ],
         "title": {
          "text": "x"
         }
        },
        "yaxis": {
         "anchor": "x",
         "domain": [
          0,
          1
         ],
         "title": {
          "text": "y"
         }
        }
       }
      }
     },
     "metadata": {},
     "output_type": "display_data"
    }
   ],
   "source": [
    "plot_one_sample(\n",
    "    example_id=3979,\n",
    "    features=X_test,\n",
    "    targets=y_test,\n",
    "    predictions=pd.Series(predictions)\n",
    ")"
   ]
  },
  {
   "cell_type": "code",
   "execution_count": null,
   "metadata": {},
   "outputs": [],
   "source": []
  }
 ],
 "metadata": {
  "kernelspec": {
   "display_name": ".venv",
   "language": "python",
   "name": "python3"
  },
  "language_info": {
   "codemirror_mode": {
    "name": "ipython",
    "version": 3
   },
   "file_extension": ".py",
   "mimetype": "text/x-python",
   "name": "python",
   "nbconvert_exporter": "python",
   "pygments_lexer": "ipython3",
   "version": "3.9.0"
  },
  "orig_nbformat": 4,
  "vscode": {
   "interpreter": {
    "hash": "b98d97558a062384a76b0309256306c9ce5dd4e2074fe66c33532239207fc923"
   }
  }
 },
 "nbformat": 4,
 "nbformat_minor": 2
}
